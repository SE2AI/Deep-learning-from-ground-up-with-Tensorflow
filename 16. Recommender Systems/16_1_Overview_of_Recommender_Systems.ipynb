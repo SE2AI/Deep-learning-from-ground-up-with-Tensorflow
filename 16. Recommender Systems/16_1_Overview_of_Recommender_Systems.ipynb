{
  "nbformat": 4,
  "nbformat_minor": 0,
  "metadata": {
    "colab": {
      "name": "16.1 Overview of Recommender Systems",
      "provenance": [],
      "collapsed_sections": []
    },
    "kernelspec": {
      "name": "python3",
      "display_name": "Python 3"
    },
    "language_info": {
      "name": "python"
    }
  },
  "cells": [
    {
      "cell_type": "markdown",
      "source": [
        "<img src=\"https://classic.d2l.ai/_images/rec-intro.svg\" />"
      ],
      "metadata": {
        "id": "Lpf6W8JcVT45"
      }
    },
    {
      "cell_type": "markdown",
      "source": [
        "### Collaborative Filtering (CF)\n",
        "\n",
        "Filtering for information using techniques involving collaboration among multiple users, agents, and data sources.\n",
        "\n",
        "- memory-based CF: nearest neighbor-based CF - user-based CF and item-based CF, sparsity and scalability challenges\n",
        "- model-based CF: matrix factorization, better in dealing with sparsity and scalability\n",
        "- hybrid\n",
        "\n",
        "#### content-based and context-based recommender systems"
      ],
      "metadata": {
        "id": "q1a8I0v5VX_L"
      }
    },
    {
      "cell_type": "markdown",
      "source": [
        "### Explicit Feedback and Implicit Feedback\n",
        "\n",
        "- Explicit Feedback: user ratings\n",
        "- Implicit Feedback: purchase history, browsing history, watches and even mouse movements"
      ],
      "metadata": {
        "id": "x6-a0Wf9XfGM"
      }
    },
    {
      "cell_type": "markdown",
      "source": [
        "### Recommendation Tasks\n",
        "\n",
        "movies recommendation, news recommendations, point-of-interest recommendation, rating prediction, sequence-aware recommendation, click-through rate prediction\n",
        "\n",
        "Recommending for new users and recommending new items to existing users are called cold-start recommendation"
      ],
      "metadata": {
        "id": "xJ4uR67cYRmT"
      }
    },
    {
      "cell_type": "code",
      "execution_count": null,
      "metadata": {
        "id": "b0ks4px8UtEH"
      },
      "outputs": [],
      "source": [
        ""
      ]
    }
  ]
}
