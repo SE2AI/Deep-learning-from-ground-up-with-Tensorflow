{
  "nbformat": 4,
  "nbformat_minor": 0,
  "metadata": {
    "colab": {
      "name": "16.2 The MovieLens Dataset",
      "provenance": []
    },
    "kernelspec": {
      "name": "python3",
      "display_name": "Python 3"
    },
    "language_info": {
      "name": "python"
    }
  },
  "cells": [
    {
      "cell_type": "markdown",
      "source": [
        "### Getting the Data"
      ],
      "metadata": {
        "id": "KJalQplaZQSC"
      }
    },
    {
      "cell_type": "code",
      "execution_count": null,
      "metadata": {
        "id": "2iFRAHi2ZETi"
      },
      "outputs": [],
      "source": [
        "!pip install mxnet==1.7.0.post1"
      ]
    },
    {
      "cell_type": "code",
      "source": [
        "!pip install d2l==0.17.5"
      ],
      "metadata": {
        "id": "WjGO9nl0Zdoh"
      },
      "execution_count": null,
      "outputs": []
    },
    {
      "cell_type": "code",
      "source": [
        "import os\n",
        "import pandas as pd\n",
        "from mxnet import gluon, np\n",
        "from d2l import mxnet as d2l"
      ],
      "metadata": {
        "id": "2bO1mMocZhr_"
      },
      "execution_count": 1,
      "outputs": []
    },
    {
      "cell_type": "code",
      "source": [
        "d2l.DATA_HUB['ml-100k'] = (\n",
        "    'https://files.grouplens.org/datasets/movielens/ml-100k.zip',\n",
        "    'cd4dcac4241c8a4ad7badc7ca635da8a69dddb83')\n",
        "\n",
        "def read_data_ml100k():\n",
        "    data_dir = d2l.download_extract('ml-100k')\n",
        "    names = ['user_id', 'item_id', 'rating', 'timestamp']\n",
        "    data = pd.read_csv(os.path.join(data_dir, 'u.data'), '\\t', names=names,\n",
        "                       engine='python')\n",
        "    num_users = data.user_id.unique().shape[0]\n",
        "    num_items = data.item_id.unique().shape[0]\n",
        "    return data, num_users, num_items"
      ],
      "metadata": {
        "id": "O7teT0l7Zy1o"
      },
      "execution_count": 3,
      "outputs": []
    },
    {
      "cell_type": "markdown",
      "source": [
        "### Statistics of the Dataset\n",
        "\n",
        "We can construct an interaction matrix of size $n$ x $m$, where $n$ and $m$ are the number of users and the number of items respectively. \n",
        "\n",
        "This dataset only records the existing ratings, so we can also call it rating matrix.\n",
        "\n",
        "Most of the values in the rating matrix are unknown as users have not rated the majority of movies. This leads to data sparcity. It's a challenge in building recommender systems. It can be alliviated by additional side information such as user/item features.\n",
        "\n",
        "The sparsity is defined as 1 - number of nonzero entries / ( number of users * number of items)."
      ],
      "metadata": {
        "id": "bZC6Eml-Z5fX"
      }
    },
    {
      "cell_type": "code",
      "source": [
        "data, num_users, num_items = read_data_ml100k()\n",
        "sparsity = 1 - len(data) / (num_users * num_items)\n",
        "print(f'number of users: {num_users}, number of items: {num_items}')\n",
        "print(f'matrix sparsity: {sparsity:f}')\n",
        "print(data.head(5))"
      ],
      "metadata": {
        "colab": {
          "base_uri": "https://localhost:8080/"
        },
        "id": "rZXJX_ceZ1rX",
        "outputId": "e4d18c76-ef78-4f8d-d8ce-32aa639309cd"
      },
      "execution_count": 4,
      "outputs": [
        {
          "output_type": "stream",
          "name": "stdout",
          "text": [
            "Downloading ../data/ml-100k.zip from https://files.grouplens.org/datasets/movielens/ml-100k.zip...\n",
            "number of users: 943, number of items: 1682\n",
            "matrix sparsity: 0.936953\n",
            "   user_id  item_id  rating  timestamp\n",
            "0      196      242       3  881250949\n",
            "1      186      302       3  891717742\n",
            "2       22      377       1  878887116\n",
            "3      244       51       2  880606923\n",
            "4      166      346       1  886397596\n"
          ]
        }
      ]
    },
    {
      "cell_type": "markdown",
      "source": [
        "### Most ratings centered at 3-4."
      ],
      "metadata": {
        "id": "X4w1-i2bbIvV"
      }
    },
    {
      "cell_type": "code",
      "source": [
        "d2l.plt.hist(data['rating'], bins=5, ec='black')\n",
        "d2l.plt.xlabel('Rating')\n",
        "d2l.plt.ylabel('Count')\n",
        "d2l.plt.title('Distribution of Ratings in MovieLens 100K')\n",
        "d2l.plt.show()"
      ],
      "metadata": {
        "colab": {
          "base_uri": "https://localhost:8080/",
          "height": 295
        },
        "id": "B3dNMeMCZ7Wn",
        "outputId": "9141b3dc-e07b-411d-e8cc-67dafb474242"
      },
      "execution_count": 5,
      "outputs": [
        {
          "output_type": "display_data",
          "data": {
            "text/plain": [
              "<Figure size 432x288 with 1 Axes>"
            ],
            "image/png": "[encoded data removed]"
          },
          "metadata": {
            "needs_background": "light"
          }
        }
      ]
    },
    {
      "cell_type": "markdown",
      "source": [
        "### Splitting the dataset\n",
        "\n",
        "We split the dataset into training and test sets. The following function provides two split modes including random and seq-aware.\n",
        "\n",
        "- In the random mode, the function splits the 100k interactions randomly without considering timestamp and uses the 90% of the data as training samples and the rest 10% as test samples by default.\n",
        "\n",
        "- In the seq-aware mode, we leave out the item that a user rated most recently for test, and users’ historical interactions as training set.\n",
        "\n"
      ],
      "metadata": {
        "id": "2seTMspvbMMM"
      }
    },
    {
      "cell_type": "code",
      "source": [
        "def split_data_ml100k(data, num_users, num_items,\n",
        "                      split_mode='random', test_ratio=0.1):\n",
        "    \"\"\"Split the dataset in random mode or seq-aware mode.\"\"\"\n",
        "    if split_mode == 'seq-aware':\n",
        "        train_items, test_items, train_list = {}, {}, []\n",
        "        for line in data.itertuples():\n",
        "            u, i, rating, time = line[1], line[2], line[3], line[4]\n",
        "            train_items.setdefault(u, []).append((u, i, rating, time))\n",
        "            if u not in test_items or test_items[u][-1] < time:\n",
        "                test_items[u] = (i, rating, time)\n",
        "        for u in range(1, num_users + 1):\n",
        "            train_list.extend(sorted(train_items[u], key=lambda k: k[3]))\n",
        "        test_data = [(key, *value) for key, value in test_items.items()]\n",
        "        train_data = [item for item in train_list if item not in test_data]\n",
        "        train_data = pd.DataFrame(train_data)\n",
        "        test_data = pd.DataFrame(test_data)\n",
        "    else:\n",
        "        mask = [True if x == 1 else False for x in np.random.uniform(\n",
        "            0, 1, (len(data))) < 1 - test_ratio]\n",
        "        neg_mask = [not x for x in mask]\n",
        "        train_data, test_data = data[mask], data[neg_mask]\n",
        "    return train_data, test_data"
      ],
      "metadata": {
        "id": "Dx4qcCG8bF6l"
      },
      "execution_count": 6,
      "outputs": []
    },
    {
      "cell_type": "markdown",
      "source": [
        "### Loading the data\n",
        "\n",
        "The function then returns lists of users, items, ratings and a dictionary/matrix that records the interactions. "
      ],
      "metadata": {
        "id": "W4tbCKQCb2bS"
      }
    },
    {
      "cell_type": "code",
      "source": [
        "def load_data_ml100k(data, num_users, num_items, feedback='explicit'):\n",
        "    users, items, scores = [], [], []\n",
        "    inter = np.zeros((num_items, num_users)) if feedback == 'explicit' else {}\n",
        "    for line in data.itertuples():\n",
        "        user_index, item_index = int(line[1] - 1), int(line[2] - 1)\n",
        "        score = int(line[3]) if feedback == 'explicit' else 1\n",
        "        users.append(user_index)\n",
        "        items.append(item_index)\n",
        "        scores.append(score)\n",
        "        if feedback == 'implicit':\n",
        "            inter.setdefault(user_index, []).append(item_index)\n",
        "        else:\n",
        "            inter[item_index, user_index] = score\n",
        "    return users, items, scores, inter"
      ],
      "metadata": {
        "id": "dLDNQLONb0w8"
      },
      "execution_count": 7,
      "outputs": []
    },
    {
      "cell_type": "markdown",
      "source": [
        "#### Put the above steps together"
      ],
      "metadata": {
        "id": "oD8OXVbVcQIa"
      }
    },
    {
      "cell_type": "code",
      "source": [
        "def split_and_load_ml100k(split_mode='seq-aware', feedback='explicit',\n",
        "                          test_ratio=0.1, batch_size=256):\n",
        "    data, num_users, num_items = read_data_ml100k()\n",
        "    train_data, test_data = split_data_ml100k(\n",
        "        data, num_users, num_items, split_mode, test_ratio)\n",
        "    train_u, train_i, train_r, _ = load_data_ml100k(\n",
        "        train_data, num_users, num_items, feedback)\n",
        "    test_u, test_i, test_r, _ = load_data_ml100k(\n",
        "        test_data, num_users, num_items, feedback)\n",
        "    train_set = gluon.data.ArrayDataset(\n",
        "        np.array(train_u), np.array(train_i), np.array(train_r))\n",
        "    test_set = gluon.data.ArrayDataset(\n",
        "        np.array(test_u), np.array(test_i), np.array(test_r))\n",
        "    train_iter = gluon.data.DataLoader(\n",
        "        train_set, shuffle=True, last_batch='rollover',\n",
        "        batch_size=batch_size)\n",
        "    test_iter = gluon.data.DataLoader(\n",
        "        test_set, batch_size=batch_size)\n",
        "    return num_users, num_items, train_iter, test_iter"
      ],
      "metadata": {
        "id": "Oow30JJqcGIj"
      },
      "execution_count": 8,
      "outputs": []
    },
    {
      "cell_type": "code",
      "source": [
        ""
      ],
      "metadata": {
        "id": "Ql6kO_IFcUXB"
      },
      "execution_count": null,
      "outputs": []
    }
  ]
}