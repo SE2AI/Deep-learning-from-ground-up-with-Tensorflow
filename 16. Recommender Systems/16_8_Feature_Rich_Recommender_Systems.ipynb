{
  "nbformat": 4,
  "nbformat_minor": 0,
  "metadata": {
    "colab": {
      "name": "16.8 Feature-Rich Recommender Systems",
      "provenance": [],
      "collapsed_sections": []
    },
    "kernelspec": {
      "name": "python3",
      "display_name": "Python 3"
    },
    "language_info": {
      "name": "python"
    },
    "accelerator": "GPU",
    "gpuClass": "standard"
  },
  "cells": [
    {
      "cell_type": "markdown",
      "source": [
        "Interaction data is the most basic indication of users’ preferences and interests but is usually extremely sparse and can be noisy at times.\n",
        "\n",
        "To address this issue, we can integrate side information such as features of items, profiles of users, and even in which context that the interaction occurred into the recommendation model.\n",
        "\n",
        "To demonstrate this type of recommendation models, we introduce another task on click-through rate (CTR) for online advertisement recommendations.\n",
        "\n",
        "$\\text{CTR} = \\frac{\\#\\text{Clicks}} {\\#\\text{Impressions}} \\times 100 \\%$\n",
        "\n",
        "Click-through rate is an important signal that indicates the effectiveness of prediction algorithms."
      ],
      "metadata": {
        "id": "r9cBuUEopKAr"
      }
    },
    {
      "cell_type": "code",
      "execution_count": null,
      "metadata": {
        "id": "0E4gErn_owq5"
      },
      "outputs": [],
      "source": [
        "!pip install mxnet-cu101==1.7.0"
      ]
    },
    {
      "cell_type": "code",
      "source": [
        "!pip install d2l==0.17.5"
      ],
      "metadata": {
        "id": "cATG7zV_pnLJ"
      },
      "execution_count": null,
      "outputs": []
    },
    {
      "cell_type": "code",
      "source": [
        "import os\n",
        "from collections import defaultdict\n",
        "from mxnet import gluon, np\n",
        "from d2l import mxnet as d2l"
      ],
      "metadata": {
        "id": "aPsU1B9Hpor4"
      },
      "execution_count": 3,
      "outputs": []
    },
    {
      "cell_type": "markdown",
      "source": [
        "### An Online Advertising Dataset\n",
        "\n",
        "It consists of 34 fields, with the first column representing the target variable that indicates if an ad was clicked (1) or not (0)."
      ],
      "metadata": {
        "id": "3dgJsPH7prfx"
      }
    },
    {
      "cell_type": "code",
      "source": [
        "d2l.DATA_HUB['ctr'] = (d2l.DATA_URL + 'ctr.zip',\n",
        "                       'e18327c48c8e8e5c23da714dd614e390d369843f')\n",
        "\n",
        "data_dir = d2l.download_extract('ctr')"
      ],
      "metadata": {
        "colab": {
          "base_uri": "https://localhost:8080/"
        },
        "id": "0rine_ZKpp3J",
        "outputId": "b9da711c-2a03-43df-f209-6e8d347a5ee1"
      },
      "execution_count": 4,
      "outputs": [
        {
          "output_type": "stream",
          "name": "stdout",
          "text": [
            "Downloading ../data/ctr.zip from http://d2l-data.s3-accelerate.amazonaws.com/ctr.zip...\n"
          ]
        }
      ]
    },
    {
      "cell_type": "markdown",
      "source": [
        "### Dataset Wrapper"
      ],
      "metadata": {
        "id": "Scf3pBb5qEgK"
      }
    },
    {
      "cell_type": "code",
      "source": [
        "class CTRDataset(gluon.data.Dataset):\n",
        "    def __init__(self, data_path, feat_mapper=None, defaults=None,\n",
        "                 min_threshold=4, num_feat=34):\n",
        "        self.NUM_FEATS, self.count, self.data = num_feat, 0, {}\n",
        "        feat_cnts = defaultdict(lambda: defaultdict(int))\n",
        "        self.feat_mapper, self.defaults = feat_mapper, defaults\n",
        "        self.field_dims = np.zeros(self.NUM_FEATS, dtype=np.int64)\n",
        "        with open(data_path) as f:\n",
        "            for line in f:\n",
        "                instance = {}\n",
        "                values = line.rstrip('\\n').split('\\t')\n",
        "                if len(values) != self.NUM_FEATS + 1:\n",
        "                    continue\n",
        "                label = np.float32([0, 0])\n",
        "                label[int(values[0])] = 1\n",
        "                instance['y'] = [np.float32(values[0])]\n",
        "                for i in range(1, self.NUM_FEATS + 1):\n",
        "                    feat_cnts[i][values[i]] += 1\n",
        "                    instance.setdefault('x', []).append(values[i])\n",
        "                self.data[self.count] = instance\n",
        "                self.count = self.count + 1\n",
        "        if self.feat_mapper is None and self.defaults is None:\n",
        "            feat_mapper = {i: {feat for feat, c in cnt.items() if c >=\n",
        "                               min_threshold} for i, cnt in feat_cnts.items()}\n",
        "            self.feat_mapper = {i: {feat_v: idx for idx, feat_v in enumerate(feat_values)}\n",
        "                                for i, feat_values in feat_mapper.items()}\n",
        "            self.defaults = {i: len(feat_values) for i, feat_values in feat_mapper.items()}\n",
        "        for i, fm in self.feat_mapper.items():\n",
        "            self.field_dims[i - 1] = len(fm) + 1\n",
        "        self.offsets = np.array((0, *np.cumsum(self.field_dims).asnumpy()\n",
        "                                 [:-1]))\n",
        "\n",
        "    def __len__(self):\n",
        "        return self.count\n",
        "\n",
        "    def __getitem__(self, idx):\n",
        "        feat = np.array([self.feat_mapper[i + 1].get(v, self.defaults[i + 1])\n",
        "                         for i, v in enumerate(self.data[idx]['x'])])\n",
        "        return feat + self.offsets, self.data[idx]['y']"
      ],
      "metadata": {
        "id": "oNJ8BGgDqClp"
      },
      "execution_count": 5,
      "outputs": []
    },
    {
      "cell_type": "code",
      "source": [
        "train_data = CTRDataset(os.path.join(data_dir, 'train.csv'))\n",
        "train_data[0]"
      ],
      "metadata": {
        "colab": {
          "base_uri": "https://localhost:8080/"
        },
        "id": "lwpoC8u0qHC4",
        "outputId": "e3c44b9c-db73-4cf4-a3d4-bd44db36eb99"
      },
      "execution_count": 6,
      "outputs": [
        {
          "output_type": "execute_result",
          "data": {
            "text/plain": [
              "(array([ 143.,  144.,  227.,  254.,  957., 1250., 1471., 1566., 1624.,\n",
              "        1990., 2008., 2061., 2086., 2304., 2305., 2360., 2745., 2746.,\n",
              "        2747., 2748., 2892., 2988., 3165., 3190., 3194., 3195., 3549.,\n",
              "        3652., 3687., 3704., 3722., 3753., 3779., 3799.]), [1.0])"
            ]
          },
          "metadata": {},
          "execution_count": 6
        }
      ]
    },
    {
      "cell_type": "code",
      "source": [
        ""
      ],
      "metadata": {
        "id": "vkNs4pa6qIoY"
      },
      "execution_count": null,
      "outputs": []
    }
  ]
}