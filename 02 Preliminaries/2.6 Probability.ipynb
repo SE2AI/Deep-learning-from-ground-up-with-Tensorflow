{
 "cells": [
  {
   "cell_type": "markdown",
   "id": "7886c64c",
   "metadata": {},
   "source": [
    "### Expectation and Variance"
   ]
  },
  {
   "cell_type": "markdown",
   "id": "af2c2d51",
   "metadata": {},
   "source": [
    "$E[X] = \\sum_{x} x P(X = x)$"
   ]
  },
  {
   "cell_type": "markdown",
   "id": "b79e9d72",
   "metadata": {},
   "source": [
    "When the input of a function  $f(x)$  is a random variable drawn from the distribution  $P$  with different values  $x$ , the expectation of  $f(x)$  is computed as,\n",
    "\n",
    "$E_{x \\sim P}[f(x)] = \\sum_x f(x) P(x)$\n",
    "\n",
    "We can measure how much $X$ deviates from its expectation.\n",
    "\n",
    "$\\mathrm{Var}[X] = E\\left[(X - E[X])^2\\right] = E[X^2] - E[X]^2$\n",
    "\n",
    "The variance of a function from its expectation.\n",
    "\n",
    "$\\mathrm{Var}[f(x)] = E\\left[\\left(f(x) - E[f(x)]\\right)^2\\right].$"
   ]
  }
 ],
 "metadata": {
  "kernelspec": {
   "display_name": "Python 3 (ipykernel)",
   "language": "python",
   "name": "python3"
  },
  "language_info": {
   "codemirror_mode": {
    "name": "ipython",
    "version": 3
   },
   "file_extension": ".py",
   "mimetype": "text/x-python",
   "name": "python",
   "nbconvert_exporter": "python",
   "pygments_lexer": "ipython3",
   "version": "3.7.9"
  }
 },
 "nbformat": 4,
 "nbformat_minor": 5
}
