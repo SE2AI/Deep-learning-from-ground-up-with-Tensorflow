{
 "cells": [
  {
   "cell_type": "code",
   "execution_count": null,
   "id": "659d1155",
   "metadata": {
    "ExecuteTime": {
     "end_time": "2022-03-06T11:41:12.703229Z",
     "start_time": "2022-03-06T11:41:09.953231Z"
    }
   },
   "outputs": [],
   "source": [
    "import tensorflow as tf"
   ]
  },
  {
   "cell_type": "markdown",
   "id": "9dc6e62b",
   "metadata": {},
   "source": [
    "- When we refer to a Tensor, we mean a multi-dimensional array. When we refer to a 1-D Array, we call it a Vector, when we refer to a 2-D Array, we call it a Matrix, for an N-D Array, where $N > 2$, we call it just an $n^{th}$ order Tensor."
   ]
  },
  {
   "cell_type": "markdown",
   "id": "e2c924c6",
   "metadata": {},
   "source": [
    "### Data Types"
   ]
  },
  {
   "cell_type": "code",
   "execution_count": null,
   "id": "915e5f47",
   "metadata": {
    "ExecuteTime": {
     "end_time": "2022-03-06T11:41:59.358103Z",
     "start_time": "2022-03-06T11:41:58.493532Z"
    }
   },
   "outputs": [],
   "source": [
    "# creating a vector of evenly space values from 0 to 12, but not including 12\n",
    "x = tf.range(12, dtype=tf.float32)\n",
    "x"
   ]
  },
  {
   "cell_type": "code",
   "execution_count": null,
   "id": "94340b9f",
   "metadata": {
    "ExecuteTime": {
     "end_time": "2022-03-06T11:42:22.693089Z",
     "start_time": "2022-03-06T11:42:22.686090Z"
    }
   },
   "outputs": [],
   "source": [
    "# tensor's shape (the length along each axis)\n",
    "x.shape"
   ]
  },
  {
   "cell_type": "code",
   "execution_count": null,
   "id": "cdaf9251",
   "metadata": {
    "ExecuteTime": {
     "end_time": "2022-03-06T11:42:39.869628Z",
     "start_time": "2022-03-06T11:42:39.855627Z"
    }
   },
   "outputs": [],
   "source": [
    "# total number of elements in a tensor\n",
    "tf.size(x)"
   ]
  },
  {
   "cell_type": "code",
   "execution_count": null,
   "id": "a407a859",
   "metadata": {
    "ExecuteTime": {
     "end_time": "2022-03-06T11:43:01.229201Z",
     "start_time": "2022-03-06T11:43:01.221203Z"
    }
   },
   "outputs": [],
   "source": [
    "# change the shape of a tensor without altering either the number of elements or their values\n",
    "X = tf.reshape(x, (3, 4))\n",
    "X"
   ]
  },
  {
   "cell_type": "code",
   "execution_count": null,
   "id": "73c6999b",
   "metadata": {
    "ExecuteTime": {
     "end_time": "2022-03-06T11:43:06.047185Z",
     "start_time": "2022-03-06T11:43:06.028188Z"
    }
   },
   "outputs": [],
   "source": [
    "# tensor's shape (the length along each axis)\n",
    "X.shape"
   ]
  },
  {
   "cell_type": "code",
   "execution_count": null,
   "id": "e70ea04d",
   "metadata": {
    "ExecuteTime": {
     "end_time": "2022-03-06T11:43:12.682634Z",
     "start_time": "2022-03-06T11:43:12.675596Z"
    }
   },
   "outputs": [],
   "source": [
    "# total number of elements in a tensor\n",
    "tf.size(X)"
   ]
  },
  {
   "cell_type": "code",
   "execution_count": null,
   "id": "f5cd175a",
   "metadata": {
    "ExecuteTime": {
     "end_time": "2022-03-06T11:43:16.631727Z",
     "start_time": "2022-03-06T11:43:16.612725Z"
    }
   },
   "outputs": [],
   "source": [
    "# initialize a tensor with zeros\n",
    "tf.zeros((3, 4))"
   ]
  },
  {
   "cell_type": "code",
   "execution_count": null,
   "id": "058fb018",
   "metadata": {
    "ExecuteTime": {
     "end_time": "2022-03-06T11:43:23.179171Z",
     "start_time": "2022-03-06T11:43:23.174169Z"
    }
   },
   "outputs": [],
   "source": [
    "# initialize a tensor with ones\n",
    "tf.ones((3, 4))"
   ]
  },
  {
   "cell_type": "code",
   "execution_count": null,
   "id": "528f8294",
   "metadata": {
    "ExecuteTime": {
     "end_time": "2022-03-06T11:43:33.106250Z",
     "start_time": "2022-03-06T11:43:33.092253Z"
    }
   },
   "outputs": [],
   "source": [
    "# initialize a tensor with a probability distribution\n",
    "tf.random.normal((3, 4))"
   ]
  },
  {
   "cell_type": "code",
   "execution_count": null,
   "id": "777d5b8c",
   "metadata": {
    "ExecuteTime": {
     "end_time": "2022-03-06T11:43:44.955356Z",
     "start_time": "2022-03-06T11:43:44.933320Z"
    }
   },
   "outputs": [],
   "source": [
    "# nested dimensions - initialize with a probability distribution\n",
    "tf.random.normal((3, 6, 9))"
   ]
  },
  {
   "cell_type": "code",
   "execution_count": null,
   "id": "8a1d3aea",
   "metadata": {
    "ExecuteTime": {
     "end_time": "2022-03-06T11:43:57.309247Z",
     "start_time": "2022-03-06T11:43:57.292249Z"
    }
   },
   "outputs": [],
   "source": [
    "# constants\n",
    "tf.constant(1)"
   ]
  },
  {
   "cell_type": "code",
   "execution_count": null,
   "id": "ee1c4bae",
   "metadata": {
    "ExecuteTime": {
     "end_time": "2022-03-06T11:44:13.105216Z",
     "start_time": "2022-03-06T11:44:13.093218Z"
    }
   },
   "outputs": [],
   "source": [
    "tf.constant([[2, 1, 4, 3], [1, 2, 3, 4], [4, 3, 2, 1]])"
   ]
  },
  {
   "cell_type": "markdown",
   "id": "d392c7c7",
   "metadata": {},
   "source": [
    "### Tensor Operations"
   ]
  },
  {
   "cell_type": "code",
   "execution_count": null,
   "id": "cad10c31",
   "metadata": {
    "ExecuteTime": {
     "end_time": "2022-03-06T11:44:19.004373Z",
     "start_time": "2022-03-06T11:44:18.996408Z"
    }
   },
   "outputs": [],
   "source": [
    "# addition\n",
    "x = tf.constant([1.0, 2, 4, 8])\n",
    "y = tf.constant([2.0, 2, 2, 2])\n",
    "x + y"
   ]
  },
  {
   "cell_type": "code",
   "execution_count": null,
   "id": "305a8977",
   "metadata": {
    "ExecuteTime": {
     "end_time": "2022-03-06T11:44:26.700119Z",
     "start_time": "2022-03-06T11:44:26.693108Z"
    }
   },
   "outputs": [],
   "source": [
    "# subtraction\n",
    "x = tf.constant([1.0, 2, 4, 8])\n",
    "y = tf.constant([2.0, 2, 2, 2])\n",
    "x - y"
   ]
  },
  {
   "cell_type": "code",
   "execution_count": null,
   "id": "0cb28a19",
   "metadata": {
    "ExecuteTime": {
     "end_time": "2022-03-06T11:44:27.764788Z",
     "start_time": "2022-03-06T11:44:27.750829Z"
    }
   },
   "outputs": [],
   "source": [
    "# multiplication\n",
    "x = tf.constant([1.0, 2, 4, 8])\n",
    "y = tf.constant([2.0, 2, 2, 2])\n",
    "x * y"
   ]
  },
  {
   "cell_type": "code",
   "execution_count": null,
   "id": "dcebfbef",
   "metadata": {
    "ExecuteTime": {
     "end_time": "2022-03-06T11:44:29.803053Z",
     "start_time": "2022-03-06T11:44:29.789051Z"
    }
   },
   "outputs": [],
   "source": [
    "# division\n",
    "x = tf.constant([1.0, 2, 4, 8])\n",
    "y = tf.constant([2.0, 2, 2, 2])\n",
    "x / y"
   ]
  },
  {
   "cell_type": "code",
   "execution_count": null,
   "id": "aee1229e",
   "metadata": {
    "ExecuteTime": {
     "end_time": "2022-03-06T11:44:35.759078Z",
     "start_time": "2022-03-06T11:44:35.750080Z"
    }
   },
   "outputs": [],
   "source": [
    "# exponentiation\n",
    "x = tf.constant([1.0, 2, 4, 8])\n",
    "y = tf.constant([2.0, 2, 2, 2])\n",
    "x ** y "
   ]
  },
  {
   "cell_type": "code",
   "execution_count": null,
   "id": "c0da621d",
   "metadata": {
    "ExecuteTime": {
     "end_time": "2022-03-06T11:44:38.695645Z",
     "start_time": "2022-03-06T11:44:38.675611Z"
    }
   },
   "outputs": [],
   "source": [
    "# unary operators\n",
    "tf.exp(x)"
   ]
  },
  {
   "cell_type": "code",
   "execution_count": null,
   "id": "9c04fd58",
   "metadata": {
    "ExecuteTime": {
     "end_time": "2022-03-06T11:44:49.102750Z",
     "start_time": "2022-03-06T11:44:49.085749Z"
    }
   },
   "outputs": [],
   "source": [
    "# concatenation"
   ]
  },
  {
   "cell_type": "code",
   "execution_count": null,
   "id": "c601dd95",
   "metadata": {
    "ExecuteTime": {
     "end_time": "2022-03-06T11:44:52.048076Z",
     "start_time": "2022-03-06T11:44:52.031033Z"
    }
   },
   "outputs": [],
   "source": [
    "x = tf.constant([[2, 1, 4, 3], [1, 3, 4, 2]])\n",
    "x"
   ]
  },
  {
   "cell_type": "code",
   "execution_count": null,
   "id": "70debb6e",
   "metadata": {
    "ExecuteTime": {
     "end_time": "2022-03-06T11:44:53.658064Z",
     "start_time": "2022-03-06T11:44:53.644064Z"
    }
   },
   "outputs": [],
   "source": [
    "y = tf.constant([[1, 3, 4, 2], [2, 1, 4, 3]])\n",
    "y"
   ]
  },
  {
   "cell_type": "code",
   "execution_count": null,
   "id": "d7ce69d3",
   "metadata": {
    "ExecuteTime": {
     "end_time": "2022-03-06T11:44:58.113282Z",
     "start_time": "2022-03-06T11:44:58.101279Z"
    }
   },
   "outputs": [],
   "source": [
    "# row-wise\n",
    "tf.concat([x, y], axis=0)"
   ]
  },
  {
   "cell_type": "code",
   "execution_count": null,
   "id": "2d5020f0",
   "metadata": {
    "ExecuteTime": {
     "end_time": "2022-03-06T11:45:05.162723Z",
     "start_time": "2022-03-06T11:45:05.149712Z"
    }
   },
   "outputs": [],
   "source": [
    "# column-wise\n",
    "tf.concat([x, y], axis=1)"
   ]
  },
  {
   "cell_type": "code",
   "execution_count": null,
   "id": "38f51ce7",
   "metadata": {
    "ExecuteTime": {
     "end_time": "2022-03-06T11:45:13.551042Z",
     "start_time": "2022-03-06T11:45:13.533045Z"
    }
   },
   "outputs": [],
   "source": [
    "# binary tensor\n",
    "x == y"
   ]
  },
  {
   "cell_type": "code",
   "execution_count": null,
   "id": "31aaf199",
   "metadata": {
    "ExecuteTime": {
     "end_time": "2022-03-06T11:45:34.767896Z",
     "start_time": "2022-03-06T11:45:34.758893Z"
    }
   },
   "outputs": [],
   "source": [
    "# Summing all the elements\n",
    "tf.reduce_sum(x)"
   ]
  },
  {
   "cell_type": "markdown",
   "id": "a91f6cea",
   "metadata": {},
   "source": [
    "### Broadcasting Mechanism"
   ]
  },
  {
   "cell_type": "code",
   "execution_count": null,
   "id": "199b1eb2",
   "metadata": {
    "ExecuteTime": {
     "end_time": "2022-03-06T11:45:51.115979Z",
     "start_time": "2022-03-06T11:45:51.109012Z"
    }
   },
   "outputs": [],
   "source": [
    "a = tf.reshape(tf.constant([2, 3, 5]), (3, 1))\n",
    "b = tf.reshape(tf.constant([9, 4]), (1, 2))\n",
    "a, b"
   ]
  },
  {
   "cell_type": "code",
   "execution_count": null,
   "id": "77691d3d",
   "metadata": {
    "ExecuteTime": {
     "end_time": "2022-03-06T11:45:58.379374Z",
     "start_time": "2022-03-06T11:45:58.364375Z"
    }
   },
   "outputs": [],
   "source": [
    "a + b"
   ]
  },
  {
   "cell_type": "markdown",
   "id": "a8b315a3",
   "metadata": {},
   "source": [
    "### Indexing and Slicing"
   ]
  },
  {
   "cell_type": "code",
   "execution_count": null,
   "id": "652b90a9",
   "metadata": {
    "ExecuteTime": {
     "end_time": "2022-03-06T11:46:21.925836Z",
     "start_time": "2022-03-06T11:46:21.917836Z"
    }
   },
   "outputs": [],
   "source": [
    "x"
   ]
  },
  {
   "cell_type": "code",
   "execution_count": null,
   "id": "eb3d449c",
   "metadata": {
    "ExecuteTime": {
     "end_time": "2022-03-06T11:46:24.563198Z",
     "start_time": "2022-03-06T11:46:24.556196Z"
    }
   },
   "outputs": [],
   "source": [
    "x[-1], x[1:3]"
   ]
  },
  {
   "cell_type": "markdown",
   "id": "8eecce11",
   "metadata": {},
   "source": [
    "- Variables in TensorFlow are mutable"
   ]
  },
  {
   "cell_type": "code",
   "execution_count": null,
   "id": "eed526e4",
   "metadata": {
    "ExecuteTime": {
     "end_time": "2022-03-06T11:46:28.783126Z",
     "start_time": "2022-03-06T11:46:28.774112Z"
    }
   },
   "outputs": [],
   "source": [
    "# single assignment\n",
    "X_var = tf.Variable(x)\n",
    "X_var[1, 2].assign(9)\n",
    "X_var"
   ]
  },
  {
   "cell_type": "code",
   "execution_count": null,
   "id": "a3e420cd",
   "metadata": {
    "ExecuteTime": {
     "end_time": "2022-03-06T11:46:45.684167Z",
     "start_time": "2022-03-06T11:46:45.671164Z"
    }
   },
   "outputs": [],
   "source": [
    "x"
   ]
  },
  {
   "cell_type": "code",
   "execution_count": null,
   "id": "7c565569",
   "metadata": {
    "ExecuteTime": {
     "end_time": "2022-03-06T11:46:46.892879Z",
     "start_time": "2022-03-06T11:46:46.875843Z"
    }
   },
   "outputs": [],
   "source": [
    "X_var[0:2, 1:3]"
   ]
  },
  {
   "cell_type": "code",
   "execution_count": null,
   "id": "5d9aa9bd",
   "metadata": {
    "ExecuteTime": {
     "end_time": "2022-03-06T11:47:27.098599Z",
     "start_time": "2022-03-06T11:47:27.077296Z"
    }
   },
   "outputs": [],
   "source": [
    "# single assignment\n",
    "X_var = tf.Variable(x)\n",
    "X_var[0:2, 1:3].assign(tf.ones((2,2), dtype = tf.int32))\n",
    "X_var"
   ]
  },
  {
   "cell_type": "markdown",
   "id": "1224389f",
   "metadata": {},
   "source": [
    "### Converting to numpy"
   ]
  },
  {
   "cell_type": "code",
   "execution_count": null,
   "id": "c5710c96",
   "metadata": {
    "ExecuteTime": {
     "end_time": "2022-03-06T11:47:32.798777Z",
     "start_time": "2022-03-06T11:47:32.779759Z"
    }
   },
   "outputs": [],
   "source": [
    "x"
   ]
  },
  {
   "cell_type": "code",
   "execution_count": null,
   "id": "4d0cab1f",
   "metadata": {
    "ExecuteTime": {
     "end_time": "2022-03-06T11:47:35.131030Z",
     "start_time": "2022-03-06T11:47:35.118031Z"
    }
   },
   "outputs": [],
   "source": [
    "x.numpy()"
   ]
  },
  {
   "cell_type": "code",
   "execution_count": null,
   "id": "725b37a0",
   "metadata": {},
   "outputs": [],
   "source": []
  }
 ],
 "metadata": {
  "kernelspec": {
   "display_name": "Python 3 (ipykernel)",
   "language": "python",
   "name": "python3"
  },
  "language_info": {
   "codemirror_mode": {
    "name": "ipython",
    "version": 3
   },
   "file_extension": ".py",
   "mimetype": "text/x-python",
   "name": "python",
   "nbconvert_exporter": "python",
   "pygments_lexer": "ipython3",
   "version": "3.7.9"
  }
 },
 "nbformat": 4,
 "nbformat_minor": 5
}
