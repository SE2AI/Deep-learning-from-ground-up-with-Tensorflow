{
 "cells": [
  {
   "cell_type": "code",
   "execution_count": null,
   "id": "032fcd7d",
   "metadata": {
    "ExecuteTime": {
     "end_time": "2022-03-06T12:21:29.880560Z",
     "start_time": "2022-03-06T12:21:27.221489Z"
    }
   },
   "outputs": [],
   "source": [
    "import tensorflow as tf"
   ]
  },
  {
   "cell_type": "markdown",
   "id": "43017dd5",
   "metadata": {},
   "source": [
    "Given, $y = f(x) = 3x^2-4x$"
   ]
  },
  {
   "cell_type": "code",
   "execution_count": null,
   "id": "cf873ba1",
   "metadata": {
    "ExecuteTime": {
     "end_time": "2022-03-06T12:21:51.515827Z",
     "start_time": "2022-03-06T12:21:50.655104Z"
    }
   },
   "outputs": [],
   "source": [
    "# find gradient of y w.r.t vector-x\n",
    "x = tf.Variable(tf.range(4, dtype=tf.float32))\n",
    "x"
   ]
  },
  {
   "cell_type": "code",
   "execution_count": null,
   "id": "8bd8891a",
   "metadata": {
    "ExecuteTime": {
     "end_time": "2022-03-06T12:22:12.461762Z",
     "start_time": "2022-03-06T12:22:12.444762Z"
    }
   },
   "outputs": [],
   "source": [
    "# calculate y\n",
    "with tf.GradientTape() as t:\n",
    "    y = 3 * x * x - 4 * x\n",
    "y"
   ]
  },
  {
   "cell_type": "code",
   "execution_count": null,
   "id": "924d90fa",
   "metadata": {
    "ExecuteTime": {
     "end_time": "2022-03-06T12:22:55.194592Z",
     "start_time": "2022-03-06T12:22:55.159595Z"
    }
   },
   "outputs": [],
   "source": [
    "# gradient\n",
    "x_grad = t.gradient(y, x)\n",
    "x_grad"
   ]
  },
  {
   "cell_type": "code",
   "execution_count": null,
   "id": "0a6f2bbb",
   "metadata": {},
   "outputs": [],
   "source": []
  }
 ],
 "metadata": {
  "kernelspec": {
   "display_name": "Python 3 (ipykernel)",
   "language": "python",
   "name": "python3"
  },
  "language_info": {
   "codemirror_mode": {
    "name": "ipython",
    "version": 3
   },
   "file_extension": ".py",
   "mimetype": "text/x-python",
   "name": "python",
   "nbconvert_exporter": "python",
   "pygments_lexer": "ipython3",
   "version": "3.7.9"
  }
 },
 "nbformat": 4,
 "nbformat_minor": 5
}
