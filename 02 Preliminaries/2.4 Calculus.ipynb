{
 "cells": [
  {
   "cell_type": "markdown",
   "id": "1f4cf6b5",
   "metadata": {},
   "source": [
    "### Derivatives and Differentiation"
   ]
  },
  {
   "cell_type": "markdown",
   "id": "a1d21e05",
   "metadata": {},
   "source": [
    "$\\large f: \\mathbb{R} \\rightarrow \\mathbb{R}$\n",
    "\n",
    "$\\large f'(x) = \\lim_{h \\rightarrow 0} \\frac{f(x+h) - f(x)}{h}$"
   ]
  },
  {
   "cell_type": "markdown",
   "id": "dc2b170e",
   "metadata": {},
   "source": [
    "let $\\large u = f(x) = 3x^2-4x$"
   ]
  },
  {
   "cell_type": "code",
   "execution_count": 1,
   "id": "55ac0cb0",
   "metadata": {
    "ExecuteTime": {
     "end_time": "2022-03-06T12:17:34.279262Z",
     "start_time": "2022-03-06T12:17:34.262205Z"
    }
   },
   "outputs": [],
   "source": [
    "def f(x):\n",
    "    return 3 * x ** 2 - 4 * x"
   ]
  },
  {
   "cell_type": "markdown",
   "id": "040b81e6",
   "metadata": {},
   "source": [
    "By setting  $x=1$  and letting  $h$  approach  $0$ , the numerical result of $\\large \\frac{f(x+h) - f(x)}{h}$ approaches $2$."
   ]
  },
  {
   "cell_type": "code",
   "execution_count": 2,
   "id": "f5712038",
   "metadata": {
    "ExecuteTime": {
     "end_time": "2022-03-06T12:17:48.182114Z",
     "start_time": "2022-03-06T12:17:48.170112Z"
    }
   },
   "outputs": [
    {
     "name": "stdout",
     "output_type": "stream",
     "text": [
      "h=0.10000, numerical limit=2.30000\n",
      "h=0.01000, numerical limit=2.03000\n",
      "h=0.00100, numerical limit=2.00300\n",
      "h=0.00010, numerical limit=2.00030\n",
      "h=0.00001, numerical limit=2.00003\n"
     ]
    }
   ],
   "source": [
    "def numerical_lim(f, x, h):\n",
    "    return (f(x + h) - f(x)) / h\n",
    "\n",
    "h = 0.1\n",
    "for i in range(5):\n",
    "    print(f'h={h:.5f}, numerical limit={numerical_lim(f, 1, h):.5f}')\n",
    "    h *= 0.1"
   ]
  },
  {
   "cell_type": "markdown",
   "id": "a4f12ce6",
   "metadata": {},
   "source": [
    "### Different Notations of Derivates"
   ]
  },
  {
   "cell_type": "markdown",
   "id": "9ca30524",
   "metadata": {},
   "source": [
    "$\\large f'(x) = y' = \\frac{dy}{dx} = \\frac{df}{dx} = \\frac{d}{dx} f(x) = Df(x) = D_x f(x)$"
   ]
  },
  {
   "cell_type": "markdown",
   "id": "0df66369",
   "metadata": {},
   "source": [
    "### Derivates of common functions"
   ]
  },
  {
   "cell_type": "markdown",
   "id": "43acd298",
   "metadata": {},
   "source": [
    "1. $DC = 0$, (C is a Constant)\n",
    "2. $Dx^n = nx^{n-1}$, (the power rule,  $n$  is any real number)\n",
    "3. $De^x = e^x$\n",
    "4. $D\\ln(x) = 1/x$"
   ]
  },
  {
   "cell_type": "markdown",
   "id": "b02a2002",
   "metadata": {},
   "source": [
    "### Differentiation Rules"
   ]
  },
  {
   "cell_type": "markdown",
   "id": "d212d37c",
   "metadata": {
    "ExecuteTime": {
     "end_time": "2022-03-06T08:57:44.457497Z",
     "start_time": "2022-03-06T08:57:44.434498Z"
    }
   },
   "source": [
    "1. $\\large \\frac{d}{dx} [Cf(x)] = C \\frac{d}{dx} f(x)$, (constant multiple rule)\n",
    "2. $\\large \\frac{d}{dx} [f(x) + g(x)] = \\frac{d}{dx} f(x) + \\frac{d}{dx} g(x)$, (sum rule)\n",
    "3. $\\large \\frac{d}{dx} [f(x)g(x)] = f(x) \\frac{d}{dx} [g(x)] + g(x) \\frac{d}{dx} [f(x)]$, (product rule)\n",
    "4. $\\large \\frac{d}{dx} \\left[\\frac{f(x)}{g(x)}\\right] = \\frac{g(x) \\frac{d}{dx} [f(x)] - f(x) \\frac{d}{dx} [g(x)]}{[g(x)]^2}$, (quotient rule)"
   ]
  },
  {
   "cell_type": "markdown",
   "id": "f53735a0",
   "metadata": {},
   "source": [
    "### Partial Derivatives"
   ]
  },
  {
   "cell_type": "markdown",
   "id": "d949207a",
   "metadata": {},
   "source": [
    "Let $y = f(x_1, x_2, \\ldots, x_n)$ be a function with  $n$  variables. The $\\textit {partial derivative}$ of  $y$  with respect to its $i^{th}$ parameter $x_i$ is,\n",
    "\n",
    "$\\large \\frac{\\partial y}{\\partial x_i} = \\lim_{h \\rightarrow 0} \\frac{f(x_1, \\ldots, x_{i-1}, x_i+h, x_{i+1}, \\ldots, x_n) - f(x_1, \\ldots, x_i, \\ldots, x_n)}{h}$\n",
    "\n",
    "To calculate $\\large \\frac{\\partial y}{\\partial x_i}$ we can simply treat $x_1, \\ldots, x_{i-1}, x_{i+1}, \\ldots, x_n$ as constants and calculate the derivative of  $y$  with respect to  $x_i$ \n",
    "\n",
    "Partial derivates can be denotated as any of the following notations;\n",
    "$\\large \\frac{\\partial y}{\\partial x_i} = \\frac{\\partial f}{\\partial x_i} = f_{x_i} = f_i = D_i f = D_{x_i} f.$"
   ]
  },
  {
   "cell_type": "markdown",
   "id": "1bccf757",
   "metadata": {},
   "source": [
    "### Gradients"
   ]
  },
  {
   "cell_type": "markdown",
   "id": "e8a5ae63",
   "metadata": {},
   "source": [
    "We can concatenate partial derivatives of a multivariate function with respect to all its variables to obtain the $\\textit {gradient}$ vector of the function.\n",
    "\n",
    "$\\large \\nabla_{\\mathbf{x}} f(\\mathbf{x}) = \\bigg[\\frac{\\partial f(\\mathbf{x})}{\\partial x_1}, \\frac{\\partial f(\\mathbf{x})}{\\partial x_2}, \\ldots, \\frac{\\partial f(\\mathbf{x})}{\\partial x_n}\\bigg]$\n",
    "\n",
    "$\\large \\nabla_{\\mathbf{x}} f(\\mathbf{x})$ is replace by $\\large \\nabla f(\\mathbf{x})$ if there's no ambiguity.\n"
   ]
  },
  {
   "cell_type": "markdown",
   "id": "791e806f",
   "metadata": {},
   "source": [
    "### Chain Rule\n",
    "\n",
    "Suppose that functions  $y=f(u)$  and  $u=g(x)$  are both differentiable, then the chain rule states that,\n",
    "\n",
    "$\\large \\frac{dy}{dx} = \\frac{dy}{du} \\frac{du}{dx}$"
   ]
  }
 ],
 "metadata": {
  "kernelspec": {
   "display_name": "Python 3 (ipykernel)",
   "language": "python",
   "name": "python3"
  },
  "language_info": {
   "codemirror_mode": {
    "name": "ipython",
    "version": 3
   },
   "file_extension": ".py",
   "mimetype": "text/x-python",
   "name": "python",
   "nbconvert_exporter": "python",
   "pygments_lexer": "ipython3",
   "version": "3.7.9"
  }
 },
 "nbformat": 4,
 "nbformat_minor": 5
}
