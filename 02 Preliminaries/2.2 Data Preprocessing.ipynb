{
 "cells": [
  {
   "cell_type": "code",
   "execution_count": null,
   "id": "17a71275",
   "metadata": {
    "ExecuteTime": {
     "end_time": "2022-03-06T11:48:22.862742Z",
     "start_time": "2022-03-06T11:48:19.998766Z"
    }
   },
   "outputs": [],
   "source": [
    "import os\n",
    "import pandas as pd\n",
    "import tensorflow as tf"
   ]
  },
  {
   "cell_type": "code",
   "execution_count": null,
   "id": "c54739f6",
   "metadata": {
    "ExecuteTime": {
     "end_time": "2022-03-06T11:48:27.784167Z",
     "start_time": "2022-03-06T11:48:27.771154Z"
    }
   },
   "outputs": [],
   "source": [
    "# os.makedirs(os.path.join('..', 'data'), exist_ok=True)\n",
    "data_file = os.path.join('..', 'data', 'house_tiny.csv')\n",
    "# with open(data_file, 'w') as f:\n",
    "#     f.write('NumRooms,Alley,Price\\n')  # Column names\n",
    "#     f.write('NA,Pave,127500\\n')  # Each row represents a data example\n",
    "#     f.write('2,NA,106000\\n')\n",
    "#     f.write('4,NA,178100\\n')\n",
    "#     f.write('NA,NA,140000\\n')"
   ]
  },
  {
   "cell_type": "code",
   "execution_count": null,
   "id": "51d391c2",
   "metadata": {
    "ExecuteTime": {
     "end_time": "2022-03-06T11:48:29.100311Z",
     "start_time": "2022-03-06T11:48:29.068290Z"
    }
   },
   "outputs": [],
   "source": [
    "data = pd.read_csv(data_file)\n",
    "print(data)"
   ]
  },
  {
   "cell_type": "markdown",
   "id": "57d0789e",
   "metadata": {},
   "source": [
    "### Handling Missing Data"
   ]
  },
  {
   "cell_type": "code",
   "execution_count": null,
   "id": "f7ef1be8",
   "metadata": {
    "ExecuteTime": {
     "end_time": "2022-03-06T11:48:46.610960Z",
     "start_time": "2022-03-06T11:48:46.594992Z"
    }
   },
   "outputs": [],
   "source": [
    "inputs, outputs = data.iloc[:, 0:2], data.iloc[:, 2]\n",
    "inputs = inputs.fillna(inputs.mean())\n",
    "print(inputs)"
   ]
  },
  {
   "cell_type": "code",
   "execution_count": null,
   "id": "ce96e2ca",
   "metadata": {
    "ExecuteTime": {
     "end_time": "2022-03-06T11:49:07.531141Z",
     "start_time": "2022-03-06T11:49:07.507144Z"
    }
   },
   "outputs": [],
   "source": [
    "# take NaN as a categorial variable\n",
    "inputs = pd.get_dummies(inputs, dummy_na=True)\n",
    "print(inputs)"
   ]
  },
  {
   "cell_type": "markdown",
   "id": "b928dc34",
   "metadata": {},
   "source": [
    "### Conversion to the Tensor Format"
   ]
  },
  {
   "cell_type": "code",
   "execution_count": null,
   "id": "ed435ebc",
   "metadata": {
    "ExecuteTime": {
     "end_time": "2022-03-06T11:49:40.751272Z",
     "start_time": "2022-03-06T11:49:39.810298Z"
    }
   },
   "outputs": [],
   "source": [
    "X, y = tf.constant(inputs.values), tf.constant(outputs.values)\n",
    "X, y"
   ]
  },
  {
   "cell_type": "code",
   "execution_count": null,
   "id": "0f81b819",
   "metadata": {},
   "outputs": [],
   "source": []
  }
 ],
 "metadata": {
  "kernelspec": {
   "display_name": "Python 3 (ipykernel)",
   "language": "python",
   "name": "python3"
  },
  "language_info": {
   "codemirror_mode": {
    "name": "ipython",
    "version": 3
   },
   "file_extension": ".py",
   "mimetype": "text/x-python",
   "name": "python",
   "nbconvert_exporter": "python",
   "pygments_lexer": "ipython3",
   "version": "3.7.9"
  }
 },
 "nbformat": 4,
 "nbformat_minor": 5
}
