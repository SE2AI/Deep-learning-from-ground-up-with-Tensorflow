{
 "cells": [
  {
   "cell_type": "code",
   "execution_count": 1,
   "id": "77e01d8c",
   "metadata": {
    "ExecuteTime": {
     "end_time": "2022-03-06T12:05:13.948066Z",
     "start_time": "2022-03-06T12:05:10.827032Z"
    }
   },
   "outputs": [],
   "source": [
    "import tensorflow as tf"
   ]
  },
  {
   "cell_type": "markdown",
   "id": "ad64cdb9",
   "metadata": {},
   "source": [
    "### Scalars"
   ]
  },
  {
   "cell_type": "markdown",
   "id": "ee1faacb",
   "metadata": {},
   "source": [
    "- Denoted as $x, y, z$"
   ]
  },
  {
   "cell_type": "code",
   "execution_count": 2,
   "id": "ce30e595",
   "metadata": {
    "ExecuteTime": {
     "end_time": "2022-03-06T12:05:27.102689Z",
     "start_time": "2022-03-06T12:05:26.225549Z"
    }
   },
   "outputs": [
    {
     "data": {
      "text/plain": [
       "(<tf.Tensor: shape=(), dtype=float32, numpy=5.0>,\n",
       " <tf.Tensor: shape=(), dtype=float32, numpy=6.0>,\n",
       " <tf.Tensor: shape=(), dtype=float32, numpy=1.5>,\n",
       " <tf.Tensor: shape=(), dtype=float32, numpy=9.0>)"
      ]
     },
     "execution_count": 2,
     "metadata": {},
     "output_type": "execute_result"
    }
   ],
   "source": [
    "x = tf.constant(3.0)\n",
    "y = tf.constant(2.0)\n",
    "\n",
    "x + y, x * y, x / y, x**y"
   ]
  },
  {
   "cell_type": "markdown",
   "id": "1a819b16",
   "metadata": {},
   "source": [
    "### Vectors"
   ]
  },
  {
   "cell_type": "markdown",
   "id": "6eab11f7",
   "metadata": {},
   "source": [
    "- Denoted as $X, Y, Z$. Where $X \\in \\mathbb{R^n}$, n-dimensional Vector of real-numbers\n",
    "- $X = [x_1, x_2, x_3, ..., x_n]$ is a Vector, cosists of $x_1, x_2, x_3, ..., x_n$ scalars. Where $x_i \\in \\mathbb{R}$"
   ]
  },
  {
   "cell_type": "code",
   "execution_count": 3,
   "id": "bdb94aaf",
   "metadata": {
    "ExecuteTime": {
     "end_time": "2022-03-06T12:05:33.463979Z",
     "start_time": "2022-03-06T12:05:33.450032Z"
    }
   },
   "outputs": [
    {
     "data": {
      "text/plain": [
       "<tf.Tensor: shape=(4,), dtype=int32, numpy=array([0, 1, 2, 3])>"
      ]
     },
     "execution_count": 3,
     "metadata": {},
     "output_type": "execute_result"
    }
   ],
   "source": [
    "# 1-D tensor consists of n scalars\n",
    "x = tf.range(4)\n",
    "x"
   ]
  },
  {
   "cell_type": "markdown",
   "id": "2563a238",
   "metadata": {},
   "source": [
    "### Matrices"
   ]
  },
  {
   "cell_type": "markdown",
   "id": "ecb77165",
   "metadata": {},
   "source": [
    "- Matrix $X$ of $m$ rows and $n$ columns, denotated as $X \\in \\mathbb{R^{n \\times m}}$"
   ]
  },
  {
   "cell_type": "code",
   "execution_count": 4,
   "id": "e2da581a",
   "metadata": {
    "ExecuteTime": {
     "end_time": "2022-03-06T12:05:36.309461Z",
     "start_time": "2022-03-06T12:05:36.302428Z"
    }
   },
   "outputs": [],
   "source": [
    "x_copy = tf.reshape(x, (2, 2))"
   ]
  },
  {
   "cell_type": "code",
   "execution_count": 5,
   "id": "b173c678",
   "metadata": {
    "ExecuteTime": {
     "end_time": "2022-03-06T12:05:47.358430Z",
     "start_time": "2022-03-06T12:05:47.339391Z"
    }
   },
   "outputs": [
    {
     "data": {
      "text/plain": [
       "<tf.Tensor: shape=(2, 2), dtype=int32, numpy=\n",
       "array([[0, 1],\n",
       "       [2, 3]])>"
      ]
     },
     "execution_count": 5,
     "metadata": {},
     "output_type": "execute_result"
    }
   ],
   "source": [
    "x_copy"
   ]
  },
  {
   "cell_type": "markdown",
   "id": "f1f23959",
   "metadata": {},
   "source": [
    "### Length, Dimensionality, and Shape"
   ]
  },
  {
   "cell_type": "code",
   "execution_count": 6,
   "id": "4b531389",
   "metadata": {
    "ExecuteTime": {
     "end_time": "2022-03-06T12:05:51.593054Z",
     "start_time": "2022-03-06T12:05:51.577014Z"
    }
   },
   "outputs": [
    {
     "data": {
      "text/plain": [
       "4"
      ]
     },
     "execution_count": 6,
     "metadata": {},
     "output_type": "execute_result"
    }
   ],
   "source": [
    "# python built-in\n",
    "len(x)"
   ]
  },
  {
   "cell_type": "code",
   "execution_count": 7,
   "id": "b22bc727",
   "metadata": {
    "ExecuteTime": {
     "end_time": "2022-03-06T12:05:53.491988Z",
     "start_time": "2022-03-06T12:05:53.474988Z"
    }
   },
   "outputs": [
    {
     "data": {
      "text/plain": [
       "<tf.Tensor: shape=(), dtype=int32, numpy=4>"
      ]
     },
     "execution_count": 7,
     "metadata": {},
     "output_type": "execute_result"
    }
   ],
   "source": [
    "tf.size(x_copy)"
   ]
  },
  {
   "cell_type": "code",
   "execution_count": 8,
   "id": "99937329",
   "metadata": {
    "ExecuteTime": {
     "end_time": "2022-03-06T12:05:58.391433Z",
     "start_time": "2022-03-06T12:05:58.377433Z"
    }
   },
   "outputs": [
    {
     "data": {
      "text/plain": [
       "TensorShape([2, 2])"
      ]
     },
     "execution_count": 8,
     "metadata": {},
     "output_type": "execute_result"
    }
   ],
   "source": [
    "x_copy.shape"
   ]
  },
  {
   "cell_type": "markdown",
   "id": "7440564a",
   "metadata": {},
   "source": [
    "### Tensors"
   ]
  },
  {
   "cell_type": "code",
   "execution_count": 9,
   "id": "bae63eae",
   "metadata": {
    "ExecuteTime": {
     "end_time": "2022-03-06T12:06:05.371434Z",
     "start_time": "2022-03-06T12:06:05.347432Z"
    }
   },
   "outputs": [
    {
     "data": {
      "text/plain": [
       "<tf.Tensor: shape=(2, 3, 4), dtype=int32, numpy=\n",
       "array([[[ 0,  1,  2,  3],\n",
       "        [ 4,  5,  6,  7],\n",
       "        [ 8,  9, 10, 11]],\n",
       "\n",
       "       [[12, 13, 14, 15],\n",
       "        [16, 17, 18, 19],\n",
       "        [20, 21, 22, 23]]])>"
      ]
     },
     "execution_count": 9,
     "metadata": {},
     "output_type": "execute_result"
    }
   ],
   "source": [
    "X = tf.reshape(tf.range(24), (2, 3, 4))\n",
    "X"
   ]
  },
  {
   "cell_type": "markdown",
   "id": "ca8e98c2",
   "metadata": {},
   "source": [
    "### Basic Properties of Tensor Arithmetic"
   ]
  },
  {
   "cell_type": "code",
   "execution_count": 10,
   "id": "a0cdde9d",
   "metadata": {
    "ExecuteTime": {
     "end_time": "2022-03-06T12:06:23.064792Z",
     "start_time": "2022-03-06T12:06:23.056797Z"
    }
   },
   "outputs": [
    {
     "data": {
      "text/plain": [
       "(<tf.Tensor: shape=(5, 4), dtype=float32, numpy=\n",
       " array([[ 0.,  1.,  2.,  3.],\n",
       "        [ 4.,  5.,  6.,  7.],\n",
       "        [ 8.,  9., 10., 11.],\n",
       "        [12., 13., 14., 15.],\n",
       "        [16., 17., 18., 19.]], dtype=float32)>,\n",
       " <tf.Tensor: shape=(5, 4), dtype=float32, numpy=\n",
       " array([[ 0.,  2.,  4.,  6.],\n",
       "        [ 8., 10., 12., 14.],\n",
       "        [16., 18., 20., 22.],\n",
       "        [24., 26., 28., 30.],\n",
       "        [32., 34., 36., 38.]], dtype=float32)>)"
      ]
     },
     "execution_count": 10,
     "metadata": {},
     "output_type": "execute_result"
    }
   ],
   "source": [
    "A = tf.reshape(tf.range(20, dtype=tf.float32), (5, 4))\n",
    "B = A\n",
    "A, A + B"
   ]
  },
  {
   "cell_type": "markdown",
   "id": "0c2b0caa",
   "metadata": {},
   "source": [
    "### Reduction"
   ]
  },
  {
   "cell_type": "code",
   "execution_count": 11,
   "id": "1c8a67a0",
   "metadata": {
    "ExecuteTime": {
     "end_time": "2022-03-06T12:06:27.751394Z",
     "start_time": "2022-03-06T12:06:27.739374Z"
    }
   },
   "outputs": [
    {
     "data": {
      "text/plain": [
       "(<tf.Tensor: shape=(4,), dtype=float32, numpy=array([0., 1., 2., 3.], dtype=float32)>,\n",
       " <tf.Tensor: shape=(), dtype=float32, numpy=6.0>)"
      ]
     },
     "execution_count": 11,
     "metadata": {},
     "output_type": "execute_result"
    }
   ],
   "source": [
    "x = tf.range(4, dtype=tf.float32)\n",
    "x, tf.reduce_sum(x)"
   ]
  },
  {
   "cell_type": "code",
   "execution_count": 12,
   "id": "10c97de7",
   "metadata": {
    "ExecuteTime": {
     "end_time": "2022-03-06T12:06:30.935913Z",
     "start_time": "2022-03-06T12:06:30.912879Z"
    }
   },
   "outputs": [
    {
     "data": {
      "text/plain": [
       "(TensorShape([5, 4]), <tf.Tensor: shape=(), dtype=float32, numpy=190.0>)"
      ]
     },
     "execution_count": 12,
     "metadata": {},
     "output_type": "execute_result"
    }
   ],
   "source": [
    "A.shape, tf.reduce_sum(A)"
   ]
  },
  {
   "cell_type": "code",
   "execution_count": 13,
   "id": "fb835101",
   "metadata": {
    "ExecuteTime": {
     "end_time": "2022-03-06T12:06:34.628535Z",
     "start_time": "2022-03-06T12:06:34.618498Z"
    }
   },
   "outputs": [
    {
     "data": {
      "text/plain": [
       "(<tf.Tensor: shape=(4,), dtype=float32, numpy=array([40., 45., 50., 55.], dtype=float32)>,\n",
       " TensorShape([4]))"
      ]
     },
     "execution_count": 13,
     "metadata": {},
     "output_type": "execute_result"
    }
   ],
   "source": [
    "# row-wise\n",
    "A_sum_axis0 = tf.reduce_sum(A, axis=0)\n",
    "A_sum_axis0, A_sum_axis0.shape"
   ]
  },
  {
   "cell_type": "code",
   "execution_count": 14,
   "id": "54173499",
   "metadata": {
    "ExecuteTime": {
     "end_time": "2022-03-06T12:06:35.320211Z",
     "start_time": "2022-03-06T12:06:35.306210Z"
    }
   },
   "outputs": [
    {
     "data": {
      "text/plain": [
       "(<tf.Tensor: shape=(5,), dtype=float32, numpy=array([ 6., 22., 38., 54., 70.], dtype=float32)>,\n",
       " TensorShape([5]))"
      ]
     },
     "execution_count": 14,
     "metadata": {},
     "output_type": "execute_result"
    }
   ],
   "source": [
    "# column-wise\n",
    "A_sum_axis1 = tf.reduce_sum(A, axis=1)\n",
    "A_sum_axis1, A_sum_axis1.shape"
   ]
  },
  {
   "cell_type": "code",
   "execution_count": 15,
   "id": "42285eef",
   "metadata": {
    "ExecuteTime": {
     "end_time": "2022-03-06T12:06:50.237379Z",
     "start_time": "2022-03-06T12:06:50.225378Z"
    }
   },
   "outputs": [
    {
     "data": {
      "text/plain": [
       "<tf.Tensor: shape=(), dtype=float32, numpy=190.0>"
      ]
     },
     "execution_count": 15,
     "metadata": {},
     "output_type": "execute_result"
    }
   ],
   "source": [
    "tf.reduce_sum(A, axis=[0, 1])  # Same as `tf.reduce_sum(A)`"
   ]
  },
  {
   "cell_type": "markdown",
   "id": "09337917",
   "metadata": {},
   "source": [
    "### Non-Reduction Sum"
   ]
  },
  {
   "cell_type": "code",
   "execution_count": 16,
   "id": "d69ed393",
   "metadata": {
    "ExecuteTime": {
     "end_time": "2022-03-06T12:07:01.931317Z",
     "start_time": "2022-03-06T12:07:01.923315Z"
    }
   },
   "outputs": [
    {
     "data": {
      "text/plain": [
       "<tf.Tensor: shape=(5, 1), dtype=float32, numpy=\n",
       "array([[ 6.],\n",
       "       [22.],\n",
       "       [38.],\n",
       "       [54.],\n",
       "       [70.]], dtype=float32)>"
      ]
     },
     "execution_count": 16,
     "metadata": {},
     "output_type": "execute_result"
    }
   ],
   "source": [
    "sum_A = tf.reduce_sum(A, axis=1, keepdims=True)\n",
    "sum_A"
   ]
  },
  {
   "cell_type": "code",
   "execution_count": 17,
   "id": "c69a9ed0",
   "metadata": {
    "ExecuteTime": {
     "end_time": "2022-03-06T12:07:16.095633Z",
     "start_time": "2022-03-06T12:07:16.075630Z"
    }
   },
   "outputs": [
    {
     "data": {
      "text/plain": [
       "<tf.Tensor: shape=(5, 4), dtype=float32, numpy=\n",
       "array([[ 0.,  1.,  2.,  3.],\n",
       "       [ 4.,  5.,  6.,  7.],\n",
       "       [ 8.,  9., 10., 11.],\n",
       "       [12., 13., 14., 15.],\n",
       "       [16., 17., 18., 19.]], dtype=float32)>"
      ]
     },
     "execution_count": 17,
     "metadata": {},
     "output_type": "execute_result"
    }
   ],
   "source": [
    "A"
   ]
  },
  {
   "cell_type": "code",
   "execution_count": 18,
   "id": "257e089f",
   "metadata": {
    "ExecuteTime": {
     "end_time": "2022-03-06T12:07:27.300393Z",
     "start_time": "2022-03-06T12:07:27.289338Z"
    }
   },
   "outputs": [
    {
     "data": {
      "text/plain": [
       "<tf.Tensor: shape=(5, 4), dtype=float32, numpy=\n",
       "array([[0.        , 0.16666667, 0.33333334, 0.5       ],\n",
       "       [0.18181819, 0.22727273, 0.27272728, 0.3181818 ],\n",
       "       [0.21052632, 0.23684211, 0.2631579 , 0.28947368],\n",
       "       [0.22222222, 0.24074075, 0.25925925, 0.2777778 ],\n",
       "       [0.22857143, 0.24285714, 0.25714287, 0.27142859]], dtype=float32)>"
      ]
     },
     "execution_count": 18,
     "metadata": {},
     "output_type": "execute_result"
    }
   ],
   "source": [
    "# broadcasting\n",
    "A / sum_A"
   ]
  },
  {
   "cell_type": "code",
   "execution_count": 19,
   "id": "e55113aa",
   "metadata": {
    "ExecuteTime": {
     "end_time": "2022-03-06T12:07:40.475216Z",
     "start_time": "2022-03-06T12:07:40.469217Z"
    }
   },
   "outputs": [
    {
     "data": {
      "text/plain": [
       "<tf.Tensor: shape=(5, 4), dtype=float32, numpy=\n",
       "array([[ 0.,  1.,  2.,  3.],\n",
       "       [ 4.,  6.,  8., 10.],\n",
       "       [12., 15., 18., 21.],\n",
       "       [24., 28., 32., 36.],\n",
       "       [40., 45., 50., 55.]], dtype=float32)>"
      ]
     },
     "execution_count": 19,
     "metadata": {},
     "output_type": "execute_result"
    }
   ],
   "source": [
    "# cumulative sum\n",
    "tf.cumsum(A, axis=0)"
   ]
  },
  {
   "cell_type": "markdown",
   "id": "ca2b4f0a",
   "metadata": {},
   "source": [
    "### Transpose"
   ]
  },
  {
   "cell_type": "markdown",
   "id": "541304c9",
   "metadata": {},
   "source": [
    "- If $A$ is a Tensor, it's transpose is denoted as $A^T$"
   ]
  },
  {
   "cell_type": "code",
   "execution_count": 20,
   "id": "e95c1d5a",
   "metadata": {
    "ExecuteTime": {
     "end_time": "2022-03-06T12:07:55.459406Z",
     "start_time": "2022-03-06T12:07:55.446404Z"
    }
   },
   "outputs": [],
   "source": [
    "A = tf.Variable([[1, 2], [3, 4]])"
   ]
  },
  {
   "cell_type": "code",
   "execution_count": 21,
   "id": "0fac0c3b",
   "metadata": {
    "ExecuteTime": {
     "end_time": "2022-03-06T12:07:56.272235Z",
     "start_time": "2022-03-06T12:07:56.259237Z"
    }
   },
   "outputs": [
    {
     "data": {
      "text/plain": [
       "<tf.Tensor: shape=(2, 2), dtype=int32, numpy=\n",
       "array([[1, 3],\n",
       "       [2, 4]])>"
      ]
     },
     "execution_count": 21,
     "metadata": {},
     "output_type": "execute_result"
    }
   ],
   "source": [
    "tf.transpose(A)"
   ]
  },
  {
   "cell_type": "markdown",
   "id": "a72d7764",
   "metadata": {},
   "source": [
    "### Hadamard product"
   ]
  },
  {
   "cell_type": "markdown",
   "id": "1b87405e",
   "metadata": {},
   "source": [
    "- If $A$ and $B$ are two tensors, it's Hadamard product $C$ is denoted as $C = A \\odot B$, where $C_{ij} = A_i \\times B_i$"
   ]
  },
  {
   "cell_type": "code",
   "execution_count": 22,
   "id": "09ea916c",
   "metadata": {
    "ExecuteTime": {
     "end_time": "2022-03-06T12:08:04.319007Z",
     "start_time": "2022-03-06T12:08:04.306003Z"
    }
   },
   "outputs": [
    {
     "data": {
      "text/plain": [
       "<tf.Variable 'Variable:0' shape=(2, 2) dtype=int32, numpy=\n",
       "array([[1, 2],\n",
       "       [3, 4]])>"
      ]
     },
     "execution_count": 22,
     "metadata": {},
     "output_type": "execute_result"
    }
   ],
   "source": [
    "A = tf.Variable([[1, 2], [3, 4]])\n",
    "A"
   ]
  },
  {
   "cell_type": "code",
   "execution_count": 23,
   "id": "67b43132",
   "metadata": {
    "ExecuteTime": {
     "end_time": "2022-03-06T12:08:04.887933Z",
     "start_time": "2022-03-06T12:08:04.872900Z"
    }
   },
   "outputs": [
    {
     "data": {
      "text/plain": [
       "<tf.Variable 'Variable:0' shape=(2, 2) dtype=int32, numpy=\n",
       "array([[5, 6],\n",
       "       [7, 8]])>"
      ]
     },
     "execution_count": 23,
     "metadata": {},
     "output_type": "execute_result"
    }
   ],
   "source": [
    "B = tf.Variable([[5, 6], [7, 8]])\n",
    "B"
   ]
  },
  {
   "cell_type": "code",
   "execution_count": 24,
   "id": "6d1a65f5",
   "metadata": {
    "ExecuteTime": {
     "end_time": "2022-03-06T12:08:05.570063Z",
     "start_time": "2022-03-06T12:08:05.561065Z"
    }
   },
   "outputs": [
    {
     "data": {
      "text/plain": [
       "<tf.Tensor: shape=(2, 2), dtype=int32, numpy=\n",
       "array([[ 5, 12],\n",
       "       [21, 32]])>"
      ]
     },
     "execution_count": 24,
     "metadata": {},
     "output_type": "execute_result"
    }
   ],
   "source": [
    "A * B"
   ]
  },
  {
   "cell_type": "markdown",
   "id": "952638f0",
   "metadata": {},
   "source": [
    "### Dot Products"
   ]
  },
  {
   "cell_type": "markdown",
   "id": "df2458fc",
   "metadata": {},
   "source": [
    "- If $A$ and $B$ are two tensors, it's dot product $C$ is denoted as $C = A \\cdot B$, where $C_{ij} = \\sum A_i{row} \\times B_j{col}$"
   ]
  },
  {
   "cell_type": "code",
   "execution_count": 25,
   "id": "808de055",
   "metadata": {
    "ExecuteTime": {
     "end_time": "2022-03-06T12:08:20.770919Z",
     "start_time": "2022-03-06T12:08:20.754919Z"
    }
   },
   "outputs": [
    {
     "data": {
      "text/plain": [
       "<tf.Variable 'Variable:0' shape=(2, 2) dtype=int32, numpy=\n",
       "array([[1, 2],\n",
       "       [3, 4]])>"
      ]
     },
     "execution_count": 25,
     "metadata": {},
     "output_type": "execute_result"
    }
   ],
   "source": [
    "A = tf.Variable([[1, 2], [3, 4]])\n",
    "A"
   ]
  },
  {
   "cell_type": "code",
   "execution_count": 26,
   "id": "477cb9cd",
   "metadata": {
    "ExecuteTime": {
     "end_time": "2022-03-06T12:08:21.347045Z",
     "start_time": "2022-03-06T12:08:21.339079Z"
    }
   },
   "outputs": [
    {
     "data": {
      "text/plain": [
       "<tf.Variable 'Variable:0' shape=(2, 2) dtype=int32, numpy=\n",
       "array([[5, 6],\n",
       "       [7, 8]])>"
      ]
     },
     "execution_count": 26,
     "metadata": {},
     "output_type": "execute_result"
    }
   ],
   "source": [
    "B = tf.Variable([[5, 6], [7, 8]])\n",
    "B"
   ]
  },
  {
   "cell_type": "code",
   "execution_count": 27,
   "id": "c22b1bf6",
   "metadata": {
    "ExecuteTime": {
     "end_time": "2022-03-06T12:08:23.929804Z",
     "start_time": "2022-03-06T12:08:23.912768Z"
    }
   },
   "outputs": [
    {
     "data": {
      "text/plain": [
       "<tf.Tensor: shape=(2, 2), dtype=int32, numpy=\n",
       "array([[26, 30],\n",
       "       [38, 44]])>"
      ]
     },
     "execution_count": 27,
     "metadata": {},
     "output_type": "execute_result"
    }
   ],
   "source": [
    "tf.tensordot(A, B, axes=[[0],[0]])"
   ]
  },
  {
   "cell_type": "code",
   "execution_count": 28,
   "id": "d7c266dc",
   "metadata": {
    "ExecuteTime": {
     "end_time": "2022-03-06T12:08:24.904303Z",
     "start_time": "2022-03-06T12:08:24.890303Z"
    }
   },
   "outputs": [
    {
     "data": {
      "text/plain": [
       "<tf.Tensor: shape=(2, 2), dtype=int32, numpy=\n",
       "array([[19, 22],\n",
       "       [43, 50]])>"
      ]
     },
     "execution_count": 28,
     "metadata": {},
     "output_type": "execute_result"
    }
   ],
   "source": [
    "# matrix multiplication\n",
    "tf.tensordot(A, B, axes=[[1],[0]])"
   ]
  },
  {
   "cell_type": "code",
   "execution_count": 29,
   "id": "d36cd16c",
   "metadata": {
    "ExecuteTime": {
     "end_time": "2022-03-06T12:08:25.467053Z",
     "start_time": "2022-03-06T12:08:25.458044Z"
    }
   },
   "outputs": [
    {
     "data": {
      "text/plain": [
       "<tf.Tensor: shape=(2, 2), dtype=int32, numpy=\n",
       "array([[23, 31],\n",
       "       [34, 46]])>"
      ]
     },
     "execution_count": 29,
     "metadata": {},
     "output_type": "execute_result"
    }
   ],
   "source": [
    "tf.tensordot(A, B, axes=[[0],[1]])"
   ]
  },
  {
   "cell_type": "code",
   "execution_count": 30,
   "id": "c897c4ab",
   "metadata": {
    "ExecuteTime": {
     "end_time": "2022-03-06T12:08:25.954336Z",
     "start_time": "2022-03-06T12:08:25.939339Z"
    }
   },
   "outputs": [
    {
     "data": {
      "text/plain": [
       "<tf.Tensor: shape=(2, 2), dtype=int32, numpy=\n",
       "array([[17, 23],\n",
       "       [39, 53]])>"
      ]
     },
     "execution_count": 30,
     "metadata": {},
     "output_type": "execute_result"
    }
   ],
   "source": [
    "tf.tensordot(A, B, axes=[[1],[1]])"
   ]
  },
  {
   "cell_type": "markdown",
   "id": "80820d47",
   "metadata": {},
   "source": [
    "### Matrix-Vector Products"
   ]
  },
  {
   "cell_type": "markdown",
   "id": "820c9e79",
   "metadata": {},
   "source": [
    "- If $A$ is a tensor and $x$ is a vector, their product $Ax$, is a column vector where $C_{i} = \\sum A_i{row} \\times x$"
   ]
  },
  {
   "cell_type": "code",
   "execution_count": 31,
   "id": "4782b8f3",
   "metadata": {
    "ExecuteTime": {
     "end_time": "2022-03-06T12:08:51.059154Z",
     "start_time": "2022-03-06T12:08:51.051119Z"
    }
   },
   "outputs": [
    {
     "data": {
      "text/plain": [
       "<tf.Variable 'Variable:0' shape=(2, 2) dtype=int32, numpy=\n",
       "array([[1, 2],\n",
       "       [3, 4]])>"
      ]
     },
     "execution_count": 31,
     "metadata": {},
     "output_type": "execute_result"
    }
   ],
   "source": [
    "A = tf.Variable([[1, 2], [3, 4]])\n",
    "A"
   ]
  },
  {
   "cell_type": "code",
   "execution_count": 32,
   "id": "c86fc48c",
   "metadata": {
    "ExecuteTime": {
     "end_time": "2022-03-06T12:08:53.353235Z",
     "start_time": "2022-03-06T12:08:53.338236Z"
    }
   },
   "outputs": [
    {
     "data": {
      "text/plain": [
       "<tf.Variable 'Variable:0' shape=(2,) dtype=int32, numpy=array([5, 6])>"
      ]
     },
     "execution_count": 32,
     "metadata": {},
     "output_type": "execute_result"
    }
   ],
   "source": [
    "x = tf.Variable([5, 6])\n",
    "x"
   ]
  },
  {
   "cell_type": "code",
   "execution_count": 33,
   "id": "b0e245c9",
   "metadata": {
    "ExecuteTime": {
     "end_time": "2022-03-06T12:08:56.698556Z",
     "start_time": "2022-03-06T12:08:56.680556Z"
    }
   },
   "outputs": [
    {
     "data": {
      "text/plain": [
       "<tf.Tensor: shape=(2,), dtype=int32, numpy=array([17, 39])>"
      ]
     },
     "execution_count": 33,
     "metadata": {},
     "output_type": "execute_result"
    }
   ],
   "source": [
    "tf.linalg.matvec(A, x)"
   ]
  },
  {
   "cell_type": "markdown",
   "id": "b7a4bf81",
   "metadata": {},
   "source": [
    "### Matrix-Matrix Multiplication"
   ]
  },
  {
   "cell_type": "markdown",
   "id": "9c97c12d",
   "metadata": {},
   "source": [
    "- If $A$ is a tensor and $B$ is a tensor, their product $C = AB$, is a tensor where $C_{i} = \\sum A_i{row} \\times B_i{col}$"
   ]
  },
  {
   "cell_type": "code",
   "execution_count": 34,
   "id": "c05c7271",
   "metadata": {
    "ExecuteTime": {
     "end_time": "2022-03-06T12:09:17.536385Z",
     "start_time": "2022-03-06T12:09:17.522417Z"
    }
   },
   "outputs": [
    {
     "data": {
      "text/plain": [
       "<tf.Variable 'Variable:0' shape=(2, 2) dtype=int32, numpy=\n",
       "array([[1, 2],\n",
       "       [3, 4]])>"
      ]
     },
     "execution_count": 34,
     "metadata": {},
     "output_type": "execute_result"
    }
   ],
   "source": [
    "A = tf.Variable([[1, 2], [3, 4]])\n",
    "A"
   ]
  },
  {
   "cell_type": "code",
   "execution_count": 35,
   "id": "8763e543",
   "metadata": {
    "ExecuteTime": {
     "end_time": "2022-03-06T12:09:18.444585Z",
     "start_time": "2022-03-06T12:09:18.424806Z"
    }
   },
   "outputs": [
    {
     "data": {
      "text/plain": [
       "<tf.Variable 'Variable:0' shape=(2, 2) dtype=int32, numpy=\n",
       "array([[5, 6],\n",
       "       [7, 8]])>"
      ]
     },
     "execution_count": 35,
     "metadata": {},
     "output_type": "execute_result"
    }
   ],
   "source": [
    "B = tf.Variable([[5, 6], [7, 8]])\n",
    "B"
   ]
  },
  {
   "cell_type": "code",
   "execution_count": 36,
   "id": "fd549f84",
   "metadata": {
    "ExecuteTime": {
     "end_time": "2022-03-06T12:09:19.062001Z",
     "start_time": "2022-03-06T12:09:19.041971Z"
    }
   },
   "outputs": [
    {
     "data": {
      "text/plain": [
       "<tf.Tensor: shape=(2, 2), dtype=int32, numpy=\n",
       "array([[19, 22],\n",
       "       [43, 50]])>"
      ]
     },
     "execution_count": 36,
     "metadata": {},
     "output_type": "execute_result"
    }
   ],
   "source": [
    "tf.matmul(A, B)"
   ]
  },
  {
   "cell_type": "markdown",
   "id": "d4c2097e",
   "metadata": {},
   "source": [
    "### Norms"
   ]
  },
  {
   "cell_type": "markdown",
   "id": "de9b048a",
   "metadata": {},
   "source": [
    "- Norms give the magnitude of the Tensor\n",
    "- If two items are represented by Tensors, we can maximize their distance if they're dissimilar or we can minimize their distance if they're similar"
   ]
  },
  {
   "cell_type": "markdown",
   "id": "a8e38d4a",
   "metadata": {},
   "source": [
    "### $L_2$ $\\text{norm}$\n",
    "- $||x||_2 = \\sqrt \\sum_{i=1}^n x_i^2$"
   ]
  },
  {
   "cell_type": "code",
   "execution_count": 37,
   "id": "f71cf0b8",
   "metadata": {
    "ExecuteTime": {
     "end_time": "2022-03-06T12:09:33.042857Z",
     "start_time": "2022-03-06T12:09:33.024820Z"
    }
   },
   "outputs": [
    {
     "data": {
      "text/plain": [
       "<tf.Tensor: shape=(), dtype=float32, numpy=5.0>"
      ]
     },
     "execution_count": 37,
     "metadata": {},
     "output_type": "execute_result"
    }
   ],
   "source": [
    "u = tf.constant([3.0, -4.0])\n",
    "tf.norm(u)"
   ]
  },
  {
   "cell_type": "markdown",
   "id": "14db3e4b",
   "metadata": {},
   "source": [
    "### $\\textit{Frobenius norm}$\n",
    "- $L_2$ norm of a matrix\n",
    "- $||x||_F = \\sqrt { \\sum_{i=1}^m {\\sum_{j=1}^n x_{ij}^2} }$"
   ]
  },
  {
   "cell_type": "code",
   "execution_count": 38,
   "id": "137fe6c1",
   "metadata": {
    "ExecuteTime": {
     "end_time": "2022-03-06T12:09:43.599868Z",
     "start_time": "2022-03-06T12:09:43.579865Z"
    }
   },
   "outputs": [
    {
     "data": {
      "text/plain": [
       "<tf.Variable 'Variable:0' shape=(2, 2) dtype=float32, numpy=\n",
       "array([[1., 2.],\n",
       "       [3., 4.]], dtype=float32)>"
      ]
     },
     "execution_count": 38,
     "metadata": {},
     "output_type": "execute_result"
    }
   ],
   "source": [
    "A = tf.Variable([[1, 2], [3, 4]], dtype=tf.float32)\n",
    "A"
   ]
  },
  {
   "cell_type": "code",
   "execution_count": 39,
   "id": "99fc98fd",
   "metadata": {
    "ExecuteTime": {
     "end_time": "2022-03-06T12:09:45.663618Z",
     "start_time": "2022-03-06T12:09:45.649614Z"
    }
   },
   "outputs": [
    {
     "data": {
      "text/plain": [
       "<tf.Tensor: shape=(), dtype=float32, numpy=5.477226>"
      ]
     },
     "execution_count": 39,
     "metadata": {},
     "output_type": "execute_result"
    }
   ],
   "source": [
    "tf.norm(A)"
   ]
  },
  {
   "cell_type": "markdown",
   "id": "0777bba1",
   "metadata": {},
   "source": [
    "### $L_1$ $\\text{norm}$\n",
    "- $||x||_1 = \\sum_{i=1}^n|x_i|$"
   ]
  },
  {
   "cell_type": "code",
   "execution_count": 40,
   "id": "5f63f756",
   "metadata": {
    "ExecuteTime": {
     "end_time": "2022-03-06T12:09:53.523872Z",
     "start_time": "2022-03-06T12:09:53.511872Z"
    }
   },
   "outputs": [
    {
     "data": {
      "text/plain": [
       "<tf.Tensor: shape=(), dtype=float32, numpy=7.0>"
      ]
     },
     "execution_count": 40,
     "metadata": {},
     "output_type": "execute_result"
    }
   ],
   "source": [
    "u = tf.constant([3.0, -4.0])\n",
    "tf.reduce_sum(tf.abs(u))"
   ]
  },
  {
   "cell_type": "markdown",
   "id": "a26113e0",
   "metadata": {},
   "source": [
    "### $L_P$ $\\text{norm}$\n",
    "- $||x||_p = (\\sum_{i=1}^n|x_i|^p)^{\\frac{1}{p}}$"
   ]
  }
 ],
 "metadata": {
  "kernelspec": {
   "display_name": "Python 3 (ipykernel)",
   "language": "python",
   "name": "python3"
  },
  "language_info": {
   "codemirror_mode": {
    "name": "ipython",
    "version": 3
   },
   "file_extension": ".py",
   "mimetype": "text/x-python",
   "name": "python",
   "nbconvert_exporter": "python",
   "pygments_lexer": "ipython3",
   "version": "3.7.9"
  }
 },
 "nbformat": 4,
 "nbformat_minor": 5
}
