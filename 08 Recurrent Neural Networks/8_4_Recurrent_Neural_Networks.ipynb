{
  "nbformat": 4,
  "nbformat_minor": 0,
  "metadata": {
    "colab": {
      "name": "8.4. Recurrent Neural Networks",
      "provenance": []
    },
    "kernelspec": {
      "name": "python3",
      "display_name": "Python 3"
    },
    "language_info": {
      "name": "python"
    }
  },
  "cells": [
    {
      "cell_type": "markdown",
      "source": [
        "### Download Template"
      ],
      "metadata": {
        "id": "ToNT9h3AYJtY"
      }
    },
    {
      "cell_type": "code",
      "source": [
        "!wget https://gist.githubusercontent.com/b1nch3f/b702d2ebfd2c751aa21b68c7425e0d4e/raw/c77225291924a8d2c33c210d74f2744210b6b716/d2l.py -O d2l.py"
      ],
      "metadata": {
        "colab": {
          "base_uri": "https://localhost:8080/"
        },
        "id": "KYnrbWx0YOaA",
        "outputId": "ab1817e4-a321-4701-daa8-3c0383e25f8e"
      },
      "execution_count": 2,
      "outputs": [
        {
          "output_type": "stream",
          "name": "stdout",
          "text": [
            "--2022-07-16 05:00:16--  https://gist.githubusercontent.com/b1nch3f/b702d2ebfd2c751aa21b68c7425e0d4e/raw/c77225291924a8d2c33c210d74f2744210b6b716/d2l.py\n",
            "Resolving gist.githubusercontent.com (gist.githubusercontent.com)... 185.199.108.133, 185.199.109.133, 185.199.110.133, ...\n",
            "Connecting to gist.githubusercontent.com (gist.githubusercontent.com)|185.199.108.133|:443... connected.\n",
            "HTTP request sent, awaiting response... 200 OK\n",
            "Length: 59707 (58K) [text/plain]\n",
            "Saving to: ‘d2l.py’\n",
            "\n",
            "d2l.py              100%[===================>]  58.31K  --.-KB/s    in 0.01s   \n",
            "\n",
            "2022-07-16 05:00:16 (4.94 MB/s) - ‘d2l.py’ saved [59707/59707]\n",
            "\n"
          ]
        }
      ]
    },
    {
      "cell_type": "markdown",
      "source": [
        "### Imports"
      ],
      "metadata": {
        "id": "IoUGnOFrYV6w"
      }
    },
    {
      "cell_type": "code",
      "source": [
        "import tensorflow as tf\n",
        "import d2l"
      ],
      "metadata": {
        "id": "Jj15l_KnYXuH"
      },
      "execution_count": 3,
      "outputs": []
    },
    {
      "cell_type": "markdown",
      "source": [
        "### Neural Networks without Hidden States\n",
        "\n",
        "$\\mathbf{H} = \\phi(\\mathbf{X} \\mathbf{W}_{xh} + \\mathbf{b}_h)$\n",
        "\n",
        "$\\mathbf{O} = \\mathbf{H} \\mathbf{W}_{hq} + \\mathbf{b}_q$"
      ],
      "metadata": {
        "id": "O2ECP2m1W96N"
      }
    },
    {
      "cell_type": "markdown",
      "source": [
        "### Recurrent Neural Networks with Hidden States\n",
        "\n",
        "$\\mathbf{H}_t = \\phi(\\mathbf{X}_t \\mathbf{W}_{xh} + \\mathbf{H}_{t-1} \\mathbf{W}_{hh}  + \\mathbf{b}_h)$\n",
        "\n",
        "$\\mathbf{O}_t = \\mathbf{H}_t \\mathbf{W}_{hq} + \\mathbf{b}_q$\n",
        "\n",
        "<img src=\"https://classic.d2l.ai/_images/rnn.svg\" />"
      ],
      "metadata": {
        "id": "92cTsiMsXNKL"
      }
    },
    {
      "cell_type": "code",
      "execution_count": 4,
      "metadata": {
        "colab": {
          "base_uri": "https://localhost:8080/"
        },
        "id": "3RydVVqRWDzK",
        "outputId": "be371f0d-2471-45b7-8478-06d4bc4363c8"
      },
      "outputs": [
        {
          "output_type": "execute_result",
          "data": {
            "text/plain": [
              "<tf.Tensor: shape=(3, 4), dtype=float32, numpy=\n",
              "array([[ 0.05267878,  1.0576113 , -2.4709048 , -0.92110527],\n",
              "       [ 0.8843629 , -0.17644447,  0.36233348,  0.01077265],\n",
              "       [-0.01821914, -0.47448492, -2.322796  , -2.306704  ]],\n",
              "      dtype=float32)>"
            ]
          },
          "metadata": {},
          "execution_count": 4
        }
      ],
      "source": [
        "X, W_xh = tf.random.normal((3, 1), 0, 1), tf.random.normal((1, 4), 0, 1)\n",
        "H, W_hh = tf.random.normal((3, 4), 0, 1), tf.random.normal((4, 4), 0, 1)\n",
        "tf.matmul(X, W_xh) + tf.matmul(H, W_hh)"
      ]
    },
    {
      "cell_type": "code",
      "source": [
        "tf.matmul(tf.concat((X, H), 1), tf.concat((W_xh, W_hh), 0))"
      ],
      "metadata": {
        "colab": {
          "base_uri": "https://localhost:8080/"
        },
        "id": "Gdf0ULvBYCPB",
        "outputId": "93910696-2895-4358-ae6e-89615e06eeec"
      },
      "execution_count": 5,
      "outputs": [
        {
          "output_type": "execute_result",
          "data": {
            "text/plain": [
              "<tf.Tensor: shape=(3, 4), dtype=float32, numpy=\n",
              "array([[ 0.05267879,  1.0576113 , -2.4709048 , -0.92110527],\n",
              "       [ 0.8843629 , -0.17644447,  0.36233348,  0.01077263],\n",
              "       [-0.01821914, -0.47448495, -2.3227956 , -2.306704  ]],\n",
              "      dtype=float32)>"
            ]
          },
          "metadata": {},
          "execution_count": 5
        }
      ]
    },
    {
      "cell_type": "markdown",
      "source": [
        "### RNN-based Character-Level Language Models\n",
        "\n",
        "<img src=\"https://classic.d2l.ai/_images/rnn-train.svg\" />"
      ],
      "metadata": {
        "id": "smhj0MGOZFf_"
      }
    },
    {
      "cell_type": "markdown",
      "source": [
        "### Perplexity\n",
        "\n",
        "A good language model is able to predict with high-accuracy tokens that what we will see next.\n",
        "\n",
        "$\\exp\\left(-\\frac{1}{n} \\sum_{t=1}^n \\log P(x_t \\mid x_{t-1}, \\ldots, x_1)\\right)$"
      ],
      "metadata": {
        "id": "k2S0IRK2zL6o"
      }
    },
    {
      "cell_type": "code",
      "source": [
        ""
      ],
      "metadata": {
        "id": "RmXC3AHyYe3h"
      },
      "execution_count": null,
      "outputs": []
    }
  ]
}