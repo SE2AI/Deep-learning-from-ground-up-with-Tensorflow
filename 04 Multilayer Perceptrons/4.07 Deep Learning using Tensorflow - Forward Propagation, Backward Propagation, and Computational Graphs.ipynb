{
 "cells": [
  {
   "cell_type": "markdown",
   "id": "4feab3fb",
   "metadata": {},
   "source": [
    "### Forward Propagation\n",
    "\n",
    "- $\\mathbf{z}= \\mathbf{W}^{(1)} \\mathbf{x}$\n",
    "- $\\mathbf{h}= \\phi (\\mathbf{z})$\n",
    "- $\\mathbf{o}= \\mathbf{W}^{(2)} \\mathbf{h}$\n",
    "- $L = l(\\mathbf{o}, y)$\n",
    "- $s = \\frac{\\lambda}{2} \\left(\\|\\mathbf{W}^{(1)}\\|_F^2 + \\|\\mathbf{W}^{(2)}\\|_F^2\\right)$, $L_2$ regularization\n",
    "- $J = L + s$, where $J$ is the objective function"
   ]
  },
  {
   "attachments": {},
   "cell_type": "markdown",
   "id": "4d031502",
   "metadata": {},
   "source": [
    "### Computational Graph of Forward Propagation\n",
    "\n",
    "![forward.svg](../images/forward.svg)"
   ]
  },
  {
   "cell_type": "markdown",
   "id": "ac4957f5",
   "metadata": {},
   "source": [
    "### Chain Rule\n",
    "\n",
    "$\\large \\frac{dy}{dx} = \\frac{dy}{du} \\times \\frac{du}{dx}$"
   ]
  },
  {
   "cell_type": "markdown",
   "id": "56b13ef9",
   "metadata": {},
   "source": [
    "### Backpropagation\n",
    "\n",
    "- $\\large \\frac{\\partial J}{\\partial L} = 1 \\newline$\n",
    "\n",
    "- $\\large \\frac{\\partial J}{\\partial s} = 1 \\newline$\n",
    "\n",
    "- $\\large \\frac{\\partial J}{\\partial \\mathbf{o}}\n",
    "= \\text{prod}\\left(\\frac{\\partial J}{\\partial L}, \\frac{\\partial L}{\\partial \\mathbf{o}}\\right)\n",
    "= \\frac{\\partial L}{\\partial \\mathbf{o}}\n",
    "\\in \\mathbb{R}^q \\newline$\n",
    "\n",
    "- $\\large \\frac{\\partial s}{\\partial \\mathbf{W}^{(1)}} = \\lambda \\mathbf{W}^{(1)}\n",
    "\\; \\text{and} \\;\n",
    "\\frac{\\partial s}{\\partial \\mathbf{W}^{(2)}} = \\lambda \\mathbf{W}^{(2)} \\newline$\n",
    "\n",
    "- $\\large \\frac{\\partial J}{\\partial \\mathbf{W}^{(2)}}= \\text{prod}\\left(\\frac{\\partial J}{\\partial \\mathbf{o}}, \\frac{\\partial \\mathbf{o}}{\\partial \\mathbf{W}^{(2)}}\\right) + \\text{prod}\\left(\\frac{\\partial J}{\\partial s}, \\frac{\\partial s}{\\partial \\mathbf{W}^{(2)}}\\right)= \\frac{\\partial J}{\\partial \\mathbf{o}} \\mathbf{h}^\\top + \\lambda \\mathbf{W}^{(2)} \\newline$\n",
    "\n",
    "- $\\large \\frac{\\partial J}{\\partial \\mathbf{h}}\n",
    "= \\text{prod}\\left(\\frac{\\partial J}{\\partial \\mathbf{o}}, \\frac{\\partial \\mathbf{o}}{\\partial \\mathbf{h}}\\right)\n",
    "= {\\mathbf{W}^{(2)}}^\\top \\frac{\\partial J}{\\partial \\mathbf{o}} \\newline$\n",
    "\n",
    "- $\\large \\frac{\\partial J}{\\partial \\mathbf{z}}\n",
    "= \\text{prod}\\left(\\frac{\\partial J}{\\partial \\mathbf{h}}, \\frac{\\partial \\mathbf{h}}{\\partial \\mathbf{z}}\\right)\n",
    "= \\frac{\\partial J}{\\partial \\mathbf{h}} \\odot \\phi'\\left(\\mathbf{z}\\right) \\newline$\n",
    "\n",
    "- $\\large \\frac{\\partial J}{\\partial \\mathbf{W}^{(1)}}\n",
    "= \\text{prod}\\left(\\frac{\\partial J}{\\partial \\mathbf{z}}, \\frac{\\partial \\mathbf{z}}{\\partial \\mathbf{W}^{(1)}}\\right) + \\text{prod}\\left(\\frac{\\partial J}{\\partial s}, \\frac{\\partial s}{\\partial \\mathbf{W}^{(1)}}\\right)\n",
    "= \\frac{\\partial J}{\\partial \\mathbf{z}} \\mathbf{x}^\\top + \\lambda \\mathbf{W}^{(1)} \\newline$"
   ]
  }
 ],
 "metadata": {
  "kernelspec": {
   "display_name": "Python 3 (ipykernel)",
   "language": "python",
   "name": "python3"
  },
  "language_info": {
   "codemirror_mode": {
    "name": "ipython",
    "version": 3
   },
   "file_extension": ".py",
   "mimetype": "text/x-python",
   "name": "python",
   "nbconvert_exporter": "python",
   "pygments_lexer": "ipython3",
   "version": "3.7.9"
  }
 },
 "nbformat": 4,
 "nbformat_minor": 5
}
