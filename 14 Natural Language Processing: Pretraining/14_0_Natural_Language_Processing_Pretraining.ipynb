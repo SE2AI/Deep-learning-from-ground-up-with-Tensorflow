{
  "nbformat": 4,
  "nbformat_minor": 0,
  "metadata": {
    "colab": {
      "provenance": [],
      "collapsed_sections": []
    },
    "kernelspec": {
      "name": "python3",
      "display_name": "Python 3"
    },
    "language_info": {
      "name": "python"
    }
  },
  "cells": [
    {
      "cell_type": "markdown",
      "source": [
        "Learning text representations by predicting some hidden part of the text using some other part of their surrounding text."
      ],
      "metadata": {
        "id": "xE_XYQYx5gCG"
      }
    },
    {
      "cell_type": "markdown",
      "source": [
        "<img src=\"https://classic.d2l.ai/_images/nlp-map-pretrain.svg\"/>\n",
        "\n",
        "##### Pretrained text representations can be fed to various deep learning architectures for different downstream natural language processing applications."
      ],
      "metadata": {
        "id": "bxeVpADh49Hf"
      }
    }
  ]
}
