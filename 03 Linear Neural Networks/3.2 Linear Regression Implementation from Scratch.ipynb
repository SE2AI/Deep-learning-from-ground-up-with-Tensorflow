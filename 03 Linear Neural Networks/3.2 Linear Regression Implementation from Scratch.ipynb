{
 "cells": [
  {
   "cell_type": "code",
   "execution_count": 24,
   "id": "c38bde77",
   "metadata": {
    "ExecuteTime": {
     "end_time": "2022-03-19T12:12:38.250776Z",
     "start_time": "2022-03-19T12:12:37.507839Z"
    }
   },
   "outputs": [],
   "source": [
    "import random\n",
    "import tensorflow as tf\n",
    "import matplotlib.pyplot as plt"
   ]
  },
  {
   "cell_type": "markdown",
   "id": "948a7a76",
   "metadata": {},
   "source": [
    "### Generating the Dataset"
   ]
  },
  {
   "cell_type": "code",
   "execution_count": 25,
   "id": "d8efe034",
   "metadata": {
    "ExecuteTime": {
     "end_time": "2022-03-19T12:12:39.059302Z",
     "start_time": "2022-03-19T12:12:38.253788Z"
    }
   },
   "outputs": [],
   "source": [
    "def synthetic_data(w, b, num_examples):\n",
    "    \"\"\"Generate y = Xw + b + noise.\"\"\"\n",
    "    X = tf.zeros((num_examples, w.shape[0]))\n",
    "    X += tf.random.normal(shape=X.shape)\n",
    "    y = tf.matmul(X, tf.reshape(w, (-1, 1))) + b\n",
    "    y += tf.random.normal(shape=y.shape, stddev=0.01)\n",
    "    y = tf.reshape(y, (-1, 1))\n",
    "    return X, y\n",
    "\n",
    "true_w = tf.constant([2, -3.4])\n",
    "true_b = 4.2\n",
    "features, labels = synthetic_data(true_w, true_b, 1000)"
   ]
  },
  {
   "cell_type": "code",
   "execution_count": 26,
   "id": "9515449c",
   "metadata": {
    "ExecuteTime": {
     "end_time": "2022-03-19T12:12:39.339509Z",
     "start_time": "2022-03-19T12:12:39.059302Z"
    }
   },
   "outputs": [
    {
     "name": "stdout",
     "output_type": "stream",
     "text": [
      "features: tf.Tensor([-0.01474871  0.5361633 ], shape=(2,), dtype=float32) \n",
      "label: tf.Tensor([2.3331347], shape=(1,), dtype=float32)\n"
     ]
    }
   ],
   "source": [
    "print('features:', features[0],'\\nlabel:', labels[0])"
   ]
  },
  {
   "cell_type": "code",
   "execution_count": 27,
   "id": "ae04c681",
   "metadata": {
    "ExecuteTime": {
     "end_time": "2022-03-19T12:12:41.209046Z",
     "start_time": "2022-03-19T12:12:39.347355Z"
    }
   },
   "outputs": [
    {
     "data": {
      "text/plain": [
       "<matplotlib.collections.PathCollection at 0x2d9994cd688>"
      ]
     },
     "execution_count": 27,
     "metadata": {},
     "output_type": "execute_result"
    },
    {
     "data": {
      "image/png": "[encoded data removed]",
      "text/plain": [
       "<Figure size 720x576 with 1 Axes>"
      ]
     },
     "metadata": {
      "needs_background": "light"
     },
     "output_type": "display_data"
    }
   ],
   "source": [
    "plt.figure(figsize=(10, 8))\n",
    "plt.scatter(features[:, (1)].numpy(), labels.numpy(), 1)"
   ]
  },
  {
   "cell_type": "markdown",
   "id": "4bd4b3d9",
   "metadata": {},
   "source": [
    "### Reading the Dataset"
   ]
  },
  {
   "cell_type": "code",
   "execution_count": 28,
   "id": "6ac6d611",
   "metadata": {
    "ExecuteTime": {
     "end_time": "2022-03-19T12:12:41.239592Z",
     "start_time": "2022-03-19T12:12:41.222556Z"
    }
   },
   "outputs": [],
   "source": [
    "def data_iter(batch_size, features, labels):\n",
    "    num_examples = len(features)\n",
    "    indices = list(range(num_examples))\n",
    "    # The examples are read at random, in no particular order\n",
    "    random.shuffle(indices)\n",
    "    for i in range(0, num_examples, batch_size):\n",
    "        j = tf.constant(indices[i: min(i + batch_size, num_examples)])\n",
    "        yield tf.gather(features, j), tf.gather(labels, j)"
   ]
  },
  {
   "cell_type": "code",
   "execution_count": 29,
   "id": "763bf063",
   "metadata": {
    "ExecuteTime": {
     "end_time": "2022-03-19T12:12:41.284559Z",
     "start_time": "2022-03-19T12:12:41.240558Z"
    }
   },
   "outputs": [
    {
     "name": "stdout",
     "output_type": "stream",
     "text": [
      "tf.Tensor(\n",
      "[[ 0.60953885 -1.2230754 ]\n",
      " [ 1.0806274  -1.6255631 ]\n",
      " [-0.21760024  0.4166742 ]\n",
      " [-0.43624878 -0.48074856]\n",
      " [-0.45724756 -0.6817739 ]\n",
      " [-0.76568615 -0.10163084]\n",
      " [ 0.546358    0.61451817]\n",
      " [ 1.0787476  -0.86674154]\n",
      " [ 1.4191428   0.3950354 ]\n",
      " [-0.20573978  1.3334508 ]], shape=(10, 2), dtype=float32) \n",
      " tf.Tensor(\n",
      "[[ 9.585676 ]\n",
      " [11.873839 ]\n",
      " [ 2.3563926]\n",
      " [ 4.977205 ]\n",
      " [ 5.6067853]\n",
      " [ 3.014644 ]\n",
      " [ 3.1865306]\n",
      " [ 9.308247 ]\n",
      " [ 5.6993303]\n",
      " [-0.7380853]], shape=(10, 1), dtype=float32)\n"
     ]
    }
   ],
   "source": [
    "batch_size = 10\n",
    "\n",
    "for X, y in data_iter(batch_size, features, labels):\n",
    "    print(X, '\\n', y)\n",
    "    break"
   ]
  },
  {
   "cell_type": "markdown",
   "id": "2d8ae5bb",
   "metadata": {},
   "source": [
    "### Initializing Model Parameters"
   ]
  },
  {
   "cell_type": "code",
   "execution_count": 30,
   "id": "25493873",
   "metadata": {
    "ExecuteTime": {
     "end_time": "2022-03-19T12:12:41.476560Z",
     "start_time": "2022-03-19T12:12:41.286556Z"
    }
   },
   "outputs": [],
   "source": [
    "w = tf.Variable(tf.random.normal(shape=(2, 1), mean=0, stddev=0.01),\n",
    "                trainable=True)\n",
    "b = tf.Variable(tf.zeros(1), trainable=True)"
   ]
  },
  {
   "cell_type": "code",
   "execution_count": 31,
   "id": "223787ab",
   "metadata": {
    "ExecuteTime": {
     "end_time": "2022-03-19T12:12:41.508561Z",
     "start_time": "2022-03-19T12:12:41.478561Z"
    }
   },
   "outputs": [
    {
     "data": {
      "text/plain": [
       "(<tf.Variable 'Variable:0' shape=(2, 1) dtype=float32, numpy=\n",
       " array([[-0.01020052],\n",
       "        [-0.02132658]], dtype=float32)>,\n",
       " <tf.Variable 'Variable:0' shape=(1,) dtype=float32, numpy=array([0.], dtype=float32)>)"
      ]
     },
     "execution_count": 31,
     "metadata": {},
     "output_type": "execute_result"
    }
   ],
   "source": [
    "w, b"
   ]
  },
  {
   "cell_type": "markdown",
   "id": "d136067b",
   "metadata": {},
   "source": [
    "### Defining the Model"
   ]
  },
  {
   "cell_type": "code",
   "execution_count": 32,
   "id": "a7585579",
   "metadata": {
    "ExecuteTime": {
     "end_time": "2022-03-19T12:12:41.539560Z",
     "start_time": "2022-03-19T12:12:41.510558Z"
    }
   },
   "outputs": [],
   "source": [
    "def linreg(X, w, b):\n",
    "    \"\"\"The linear regression model.\"\"\"\n",
    "    return tf.matmul(X, w) + b"
   ]
  },
  {
   "cell_type": "markdown",
   "id": "6bf1ccac",
   "metadata": {},
   "source": [
    "### Defining the Loss Function"
   ]
  },
  {
   "cell_type": "code",
   "execution_count": 33,
   "id": "9538c80a",
   "metadata": {
    "ExecuteTime": {
     "end_time": "2022-03-19T12:12:41.555560Z",
     "start_time": "2022-03-19T12:12:41.543559Z"
    }
   },
   "outputs": [],
   "source": [
    "def squared_loss(y_hat, y):\n",
    "    \"\"\"Squared loss.\"\"\"\n",
    "    return (y_hat - tf.reshape(y, y_hat.shape)) ** 2 / 2"
   ]
  },
  {
   "cell_type": "markdown",
   "id": "41fe13b2",
   "metadata": {},
   "source": [
    "### Defining the Optimization Algorithm"
   ]
  },
  {
   "cell_type": "code",
   "execution_count": 34,
   "id": "be807480",
   "metadata": {
    "ExecuteTime": {
     "end_time": "2022-03-19T12:12:41.587557Z",
     "start_time": "2022-03-19T12:12:41.558557Z"
    }
   },
   "outputs": [],
   "source": [
    "def sgd(params, grads, lr, batch_size):\n",
    "    \"\"\"Minibatch stochastic gradient descent.\"\"\"\n",
    "    for param, grad in zip(params, grads):\n",
    "        param.assign_sub(lr*grad/batch_size)"
   ]
  },
  {
   "cell_type": "markdown",
   "id": "4f7ebd35",
   "metadata": {},
   "source": [
    "### Training"
   ]
  },
  {
   "cell_type": "code",
   "execution_count": 35,
   "id": "a5b83fc2",
   "metadata": {
    "ExecuteTime": {
     "end_time": "2022-03-19T12:12:43.431039Z",
     "start_time": "2022-03-19T12:12:41.589561Z"
    }
   },
   "outputs": [
    {
     "name": "stdout",
     "output_type": "stream",
     "text": [
      "epoch 1, loss 0.042346\n",
      "epoch 2, loss 0.000165\n",
      "epoch 3, loss 0.000053\n"
     ]
    }
   ],
   "source": [
    "lr = 0.03\n",
    "num_epochs = 3\n",
    "net = linreg\n",
    "loss = squared_loss\n",
    "\n",
    "for epoch in range(num_epochs):\n",
    "    for X, y in data_iter(batch_size, features, labels):\n",
    "        with tf.GradientTape() as g:\n",
    "            l = loss(net(X, w, b), y)  # Minibatch loss in `X` and `y`\n",
    "        # Compute gradient on l with respect to [`w`, `b`]\n",
    "        dw, db = g.gradient(l, [w, b])\n",
    "        # Update parameters using their gradient\n",
    "        sgd([w, b], [dw, db], lr, batch_size)\n",
    "    train_l = loss(net(features, w, b), labels)\n",
    "    print(f'epoch {epoch + 1}, loss {float(tf.reduce_mean(train_l)):f}')"
   ]
  },
  {
   "cell_type": "code",
   "execution_count": 36,
   "id": "59113578",
   "metadata": {
    "ExecuteTime": {
     "end_time": "2022-03-19T12:12:43.446614Z",
     "start_time": "2022-03-19T12:12:43.434061Z"
    }
   },
   "outputs": [
    {
     "data": {
      "text/plain": [
       "(<tf.Variable 'Variable:0' shape=(2, 1) dtype=float32, numpy=\n",
       " array([[ 1.9999689],\n",
       "        [-3.4001586]], dtype=float32)>,\n",
       " <tf.Variable 'Variable:0' shape=(1,) dtype=float32, numpy=array([4.200299], dtype=float32)>)"
      ]
     },
     "execution_count": 36,
     "metadata": {},
     "output_type": "execute_result"
    }
   ],
   "source": [
    "# updated weights and biases\n",
    "w, b"
   ]
  },
  {
   "cell_type": "code",
   "execution_count": 37,
   "id": "1709181e",
   "metadata": {
    "ExecuteTime": {
     "end_time": "2022-03-19T12:12:43.461930Z",
     "start_time": "2022-03-19T12:12:43.448477Z"
    }
   },
   "outputs": [
    {
     "name": "stdout",
     "output_type": "stream",
     "text": [
      "error in estimating w: [3.1113625e-05 1.5854836e-04]\n",
      "error in estimating b: [-0.00029898]\n"
     ]
    }
   ],
   "source": [
    "print(f'error in estimating w: {true_w - tf.reshape(w, true_w.shape)}')\n",
    "print(f'error in estimating b: {true_b - b}')"
   ]
  }
 ],
 "metadata": {
  "kernelspec": {
   "display_name": "Python 3 (ipykernel)",
   "language": "python",
   "name": "python3"
  },
  "language_info": {
   "codemirror_mode": {
    "name": "ipython",
    "version": 3
   },
   "file_extension": ".py",
   "mimetype": "text/x-python",
   "name": "python",
   "nbconvert_exporter": "python",
   "pygments_lexer": "ipython3",
   "version": "3.7.9"
  }
 },
 "nbformat": 4,
 "nbformat_minor": 5
}
