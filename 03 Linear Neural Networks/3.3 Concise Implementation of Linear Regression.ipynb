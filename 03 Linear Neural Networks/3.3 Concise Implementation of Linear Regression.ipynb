{
 "cells": [
  {
   "cell_type": "code",
   "execution_count": 16,
   "id": "5bec98fe",
   "metadata": {
    "ExecuteTime": {
     "end_time": "2022-03-19T12:13:27.366413Z",
     "start_time": "2022-03-19T12:13:26.522405Z"
    }
   },
   "outputs": [],
   "source": [
    "import random\n",
    "import tensorflow as tf\n",
    "import matplotlib.pyplot as plt"
   ]
  },
  {
   "cell_type": "markdown",
   "id": "5a4473cc",
   "metadata": {},
   "source": [
    "### Generating the Dataset"
   ]
  },
  {
   "cell_type": "code",
   "execution_count": 17,
   "id": "357446e6",
   "metadata": {
    "ExecuteTime": {
     "end_time": "2022-03-19T12:13:27.488966Z",
     "start_time": "2022-03-19T12:13:27.383485Z"
    }
   },
   "outputs": [],
   "source": [
    "def synthetic_data(w, b, num_examples):  #@save\n",
    "    \"\"\"Generate y = Xw + b + noise.\"\"\"\n",
    "    X = tf.zeros((num_examples, w.shape[0]))\n",
    "    X += tf.random.normal(shape=X.shape)\n",
    "    y = tf.matmul(X, tf.reshape(w, (-1, 1))) + b\n",
    "    y += tf.random.normal(shape=y.shape, stddev=0.01)\n",
    "    y = tf.reshape(y, (-1, 1))\n",
    "    return X, y"
   ]
  },
  {
   "cell_type": "code",
   "execution_count": 18,
   "id": "bf3cc268",
   "metadata": {
    "ExecuteTime": {
     "end_time": "2022-03-19T12:13:28.219738Z",
     "start_time": "2022-03-19T12:13:27.489910Z"
    }
   },
   "outputs": [],
   "source": [
    "true_w = tf.constant([2, -3.4])\n",
    "true_b = 4.2\n",
    "features, labels = synthetic_data(true_w, true_b, 1000)"
   ]
  },
  {
   "cell_type": "code",
   "execution_count": 19,
   "id": "ad55c157",
   "metadata": {
    "ExecuteTime": {
     "end_time": "2022-03-19T12:13:28.391419Z",
     "start_time": "2022-03-19T12:13:28.219738Z"
    }
   },
   "outputs": [
    {
     "name": "stdout",
     "output_type": "stream",
     "text": [
      "features: tf.Tensor([1.0855982  0.24455406], shape=(2,), dtype=float32) \n",
      "label: tf.Tensor([5.5538096], shape=(1,), dtype=float32)\n"
     ]
    }
   ],
   "source": [
    "print('features:', features[0],'\\nlabel:', labels[0])"
   ]
  },
  {
   "cell_type": "code",
   "execution_count": 20,
   "id": "577d66cd",
   "metadata": {
    "ExecuteTime": {
     "end_time": "2022-03-19T12:13:32.033945Z",
     "start_time": "2022-03-19T12:13:28.393425Z"
    }
   },
   "outputs": [
    {
     "data": {
      "text/plain": [
       "<matplotlib.collections.PathCollection at 0x221396a1788>"
      ]
     },
     "execution_count": 20,
     "metadata": {},
     "output_type": "execute_result"
    },
    {
     "data": {
      "image/png": "[encoded data removed]",
      "text/plain": [
       "<Figure size 720x576 with 1 Axes>"
      ]
     },
     "metadata": {
      "needs_background": "light"
     },
     "output_type": "display_data"
    }
   ],
   "source": [
    "plt.figure(figsize=(10, 8))\n",
    "plt.scatter(features[:, (1)].numpy(), labels.numpy(), 1)"
   ]
  },
  {
   "cell_type": "markdown",
   "id": "b4cac5ad",
   "metadata": {},
   "source": [
    "### Reading the Dataset"
   ]
  },
  {
   "cell_type": "code",
   "execution_count": 21,
   "id": "d0685dcd",
   "metadata": {
    "ExecuteTime": {
     "end_time": "2022-03-19T12:13:32.111192Z",
     "start_time": "2022-03-19T12:13:32.035911Z"
    }
   },
   "outputs": [],
   "source": [
    "def load_array(data_arrays, batch_size, is_train=True):\n",
    "    \"\"\"Construct a TensorFlow data iterator.\"\"\"\n",
    "    dataset = tf.data.Dataset.from_tensor_slices(data_arrays)\n",
    "    if is_train:\n",
    "        dataset = dataset.shuffle(buffer_size=1000)\n",
    "    dataset = dataset.batch(batch_size)\n",
    "    return dataset\n",
    "\n",
    "batch_size = 10\n",
    "data_iter = load_array((features, labels), batch_size)"
   ]
  },
  {
   "cell_type": "code",
   "execution_count": 22,
   "id": "c5d23f19",
   "metadata": {
    "ExecuteTime": {
     "end_time": "2022-03-19T12:13:32.204872Z",
     "start_time": "2022-03-19T12:13:32.113210Z"
    }
   },
   "outputs": [
    {
     "data": {
      "text/plain": [
       "(<tf.Tensor: shape=(10, 2), dtype=float32, numpy=\n",
       " array([[-0.3067374 , -0.97998697],\n",
       "        [ 0.6019807 ,  1.2322233 ],\n",
       "        [-0.70043784, -0.9855411 ],\n",
       "        [ 1.017782  ,  0.8365997 ],\n",
       "        [-0.7720149 ,  0.5866668 ],\n",
       "        [ 0.3427563 ,  0.9989649 ],\n",
       "        [-0.2528654 , -1.6184753 ],\n",
       "        [-0.17047195,  0.3011803 ],\n",
       "        [ 0.27920496, -0.62340826],\n",
       "        [ 0.2487463 ,  1.485001  ]], dtype=float32)>,\n",
       " <tf.Tensor: shape=(10, 1), dtype=float32, numpy=\n",
       " array([[ 6.9292474 ],\n",
       "        [ 1.2263831 ],\n",
       "        [ 6.1568556 ],\n",
       "        [ 3.3882716 ],\n",
       "        [ 0.6499356 ],\n",
       "        [ 1.4800965 ],\n",
       "        [ 9.196142  ],\n",
       "        [ 2.8314793 ],\n",
       "        [ 6.88215   ],\n",
       "        [-0.36457583]], dtype=float32)>)"
      ]
     },
     "execution_count": 22,
     "metadata": {},
     "output_type": "execute_result"
    }
   ],
   "source": [
    "next(iter(data_iter))"
   ]
  },
  {
   "cell_type": "markdown",
   "id": "7bbd4a7e",
   "metadata": {},
   "source": [
    "### Defining the Model"
   ]
  },
  {
   "cell_type": "code",
   "execution_count": 23,
   "id": "97b58b1d",
   "metadata": {
    "ExecuteTime": {
     "end_time": "2022-03-19T12:13:32.267964Z",
     "start_time": "2022-03-19T12:13:32.207878Z"
    }
   },
   "outputs": [],
   "source": [
    "# initializer = tf.initializers.RandomNormal(stddev=0.01)\n",
    "model = tf.keras.Sequential()\n",
    "model.add(tf.keras.Input(shape=(2,)))\n",
    "model.add(tf.keras.layers.Dense(1))"
   ]
  },
  {
   "cell_type": "code",
   "execution_count": 24,
   "id": "397bd44e",
   "metadata": {
    "ExecuteTime": {
     "end_time": "2022-03-19T12:13:32.283874Z",
     "start_time": "2022-03-19T12:13:32.269876Z"
    }
   },
   "outputs": [
    {
     "data": {
      "text/plain": [
       "(None, 2)"
      ]
     },
     "execution_count": 24,
     "metadata": {},
     "output_type": "execute_result"
    }
   ],
   "source": [
    "model.input_shape"
   ]
  },
  {
   "cell_type": "code",
   "execution_count": 25,
   "id": "566d9384",
   "metadata": {
    "ExecuteTime": {
     "end_time": "2022-03-19T12:13:32.299937Z",
     "start_time": "2022-03-19T12:13:32.285872Z"
    }
   },
   "outputs": [
    {
     "data": {
      "text/plain": [
       "(None, 1)"
      ]
     },
     "execution_count": 25,
     "metadata": {},
     "output_type": "execute_result"
    }
   ],
   "source": [
    "model.output_shape"
   ]
  },
  {
   "cell_type": "code",
   "execution_count": 26,
   "id": "1a1a3cea",
   "metadata": {
    "ExecuteTime": {
     "end_time": "2022-03-19T12:13:32.315910Z",
     "start_time": "2022-03-19T12:13:32.301873Z"
    }
   },
   "outputs": [
    {
     "name": "stdout",
     "output_type": "stream",
     "text": [
      "Model: \"sequential_1\"\n",
      "_________________________________________________________________\n",
      "Layer (type)                 Output Shape              Param #   \n",
      "=================================================================\n",
      "dense_1 (Dense)              (None, 1)                 3         \n",
      "=================================================================\n",
      "Total params: 3\n",
      "Trainable params: 3\n",
      "Non-trainable params: 0\n",
      "_________________________________________________________________\n"
     ]
    }
   ],
   "source": [
    "model.summary()"
   ]
  },
  {
   "cell_type": "markdown",
   "id": "99132133",
   "metadata": {},
   "source": [
    "### Defining the Loss Function"
   ]
  },
  {
   "cell_type": "code",
   "execution_count": 27,
   "id": "c3fd66ae",
   "metadata": {
    "ExecuteTime": {
     "end_time": "2022-03-19T12:13:32.331937Z",
     "start_time": "2022-03-19T12:13:32.317875Z"
    }
   },
   "outputs": [],
   "source": [
    "loss = tf.keras.losses.MeanSquaredError()"
   ]
  },
  {
   "cell_type": "markdown",
   "id": "d490e129",
   "metadata": {},
   "source": [
    "### Defining the Optimization Algorithm"
   ]
  },
  {
   "cell_type": "code",
   "execution_count": 28,
   "id": "d0a266b6",
   "metadata": {
    "ExecuteTime": {
     "end_time": "2022-03-19T12:13:32.347936Z",
     "start_time": "2022-03-19T12:13:32.333874Z"
    }
   },
   "outputs": [],
   "source": [
    "trainer = tf.keras.optimizers.SGD(learning_rate=0.03)"
   ]
  },
  {
   "cell_type": "markdown",
   "id": "06646b4a",
   "metadata": {},
   "source": [
    "### Training"
   ]
  },
  {
   "cell_type": "code",
   "execution_count": 29,
   "id": "db94d1df",
   "metadata": {
    "ExecuteTime": {
     "end_time": "2022-03-19T12:13:33.085366Z",
     "start_time": "2022-03-19T12:13:32.348873Z"
    }
   },
   "outputs": [
    {
     "name": "stdout",
     "output_type": "stream",
     "text": [
      "epoch 1, loss 0.000200\n",
      "epoch 2, loss 0.000101\n",
      "epoch 3, loss 0.000101\n"
     ]
    }
   ],
   "source": [
    "num_epochs = 3\n",
    "for epoch in range(num_epochs):\n",
    "    for X, y in data_iter:\n",
    "        with tf.GradientTape() as tape:\n",
    "            l = loss(model(X, training=True), y)\n",
    "        grads = tape.gradient(l, model.trainable_variables)\n",
    "        trainer.apply_gradients(zip(grads, model.trainable_variables))\n",
    "    l = loss(model(features), labels)\n",
    "    print(f'epoch {epoch + 1}, loss {l:f}')"
   ]
  },
  {
   "cell_type": "code",
   "execution_count": 30,
   "id": "02e8b8ca",
   "metadata": {
    "ExecuteTime": {
     "end_time": "2022-03-19T12:13:33.100836Z",
     "start_time": "2022-03-19T12:13:33.086183Z"
    }
   },
   "outputs": [
    {
     "name": "stdout",
     "output_type": "stream",
     "text": [
      "error in estimating w tf.Tensor([-0.00017595  0.0007236 ], shape=(2,), dtype=float32)\n",
      "error in estimating b [-0.00038719]\n"
     ]
    }
   ],
   "source": [
    "w = model.get_weights()[0]\n",
    "print('error in estimating w', true_w - tf.reshape(w, true_w.shape))\n",
    "b = model.get_weights()[1]\n",
    "print('error in estimating b', true_b - b)"
   ]
  }
 ],
 "metadata": {
  "kernelspec": {
   "display_name": "Python 3 (ipykernel)",
   "language": "python",
   "name": "python3"
  },
  "language_info": {
   "codemirror_mode": {
    "name": "ipython",
    "version": 3
   },
   "file_extension": ".py",
   "mimetype": "text/x-python",
   "name": "python",
   "nbconvert_exporter": "python",
   "pygments_lexer": "ipython3",
   "version": "3.7.9"
  }
 },
 "nbformat": 4,
 "nbformat_minor": 5
}
