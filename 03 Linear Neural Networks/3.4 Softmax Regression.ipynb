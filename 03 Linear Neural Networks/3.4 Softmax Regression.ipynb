{
 "cells": [
  {
   "cell_type": "markdown",
   "id": "5139ad8e",
   "metadata": {},
   "source": [
    "### Classification Problem\n",
    "\n",
    "#### one-hot encoding\n",
    "For nominal data we represent a set $\\{\\text{dog}, \\text{cat}, \\text{chicken}\\}$ not as $y \\in \\{1, 2, 3\\}$, but as $y \\in \\{(1, 0, 0), (0, 1, 0), (0, 0, 1)\\}$"
   ]
  },
  {
   "cell_type": "markdown",
   "id": "5ad42810",
   "metadata": {},
   "source": [
    "### Network Architecture"
   ]
  },
  {
   "attachments": {},
   "cell_type": "markdown",
   "id": "47d6e08e",
   "metadata": {},
   "source": [
    "![softmaxreg.svg](../images/softmaxreg.svg)"
   ]
  },
  {
   "cell_type": "markdown",
   "id": "86f6fe24",
   "metadata": {},
   "source": [
    "### Softmax Operation\n",
    "\n",
    "$\\hat{\\mathbf{y}} = \\mathrm{softmax}(\\mathbf{o})$, where $\\large \\hat{y}_j = \\frac{\\exp(o_j)}{\\sum_k \\exp(o_k)}$, $o_j$ is ${\\sigma(z_j)}, z_1 = x_1 w_{11} + x_2 w_{21} + x_3 w_{31} + x_4 w_{141} + b_1$"
   ]
  },
  {
   "cell_type": "markdown",
   "id": "6777d58e",
   "metadata": {},
   "source": [
    "### Loss Function\n",
    "\n",
    "- cross-entropy loss\n",
    "\n",
    "$\\large - \\sum_{j=1}^q y_j \\log {\\hat{y}_j}$\n",
    "\n",
    "$\\large - \\sum_{j=1}^q y_j \\log {\\frac{\\exp(o_j)}{\\sum_{k=1}^q \\exp(o_k)}}$, where $q$ is the number of classes"
   ]
  }
 ],
 "metadata": {
  "kernelspec": {
   "display_name": "Python 3 (ipykernel)",
   "language": "python",
   "name": "python3"
  },
  "language_info": {
   "codemirror_mode": {
    "name": "ipython",
    "version": 3
   },
   "file_extension": ".py",
   "mimetype": "text/x-python",
   "name": "python",
   "nbconvert_exporter": "python",
   "pygments_lexer": "ipython3",
   "version": "3.7.9"
  }
 },
 "nbformat": 4,
 "nbformat_minor": 5
}
