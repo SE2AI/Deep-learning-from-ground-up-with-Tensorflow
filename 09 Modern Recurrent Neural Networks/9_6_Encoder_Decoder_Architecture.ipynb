{
  "nbformat": 4,
  "nbformat_minor": 0,
  "metadata": {
    "colab": {
      "name": "9.6. Encoder-Decoder Architecture",
      "provenance": []
    },
    "kernelspec": {
      "name": "python3",
      "display_name": "Python 3"
    },
    "language_info": {
      "name": "python"
    }
  },
  "cells": [
    {
      "cell_type": "markdown",
      "source": [
        "<img src=\"https://classic.d2l.ai/_images/encoder-decoder.svg\" />"
      ],
      "metadata": {
        "id": "poNHhZtIN1l8"
      }
    },
    {
      "cell_type": "markdown",
      "source": [
        "### Encoder"
      ],
      "metadata": {
        "id": "YdoIDzvjN7Mr"
      }
    },
    {
      "cell_type": "code",
      "execution_count": 1,
      "metadata": {
        "id": "HTjdF-PkNpxs"
      },
      "outputs": [],
      "source": [
        "import tensorflow as tf\n",
        "\n",
        "\n",
        "class Encoder(tf.keras.layers.Layer):\n",
        "    \"\"\"The base encoder interface for the encoder-decoder architecture.\"\"\"\n",
        "    def __init__(self, **kwargs):\n",
        "        super(Encoder, self).__init__(**kwargs)\n",
        "\n",
        "    def call(self, X, *args, **kwargs):\n",
        "        raise NotImplementedError"
      ]
    },
    {
      "cell_type": "markdown",
      "source": [
        "### Decoder"
      ],
      "metadata": {
        "id": "bJVfQzw2N__7"
      }
    },
    {
      "cell_type": "code",
      "source": [
        "class Decoder(tf.keras.layers.Layer):\n",
        "    \"\"\"The base decoder interface for the encoder-decoder architecture.\"\"\"\n",
        "    def __init__(self, **kwargs):\n",
        "        super(Decoder, self).__init__(**kwargs)\n",
        "\n",
        "    def init_state(self, enc_outputs, *args):\n",
        "        raise NotImplementedError\n",
        "\n",
        "    def call(self, X, state, **kwargs):\n",
        "        raise NotImplementedError"
      ],
      "metadata": {
        "id": "6fTSGCk9N-X8"
      },
      "execution_count": 2,
      "outputs": []
    },
    {
      "cell_type": "markdown",
      "source": [
        "### Putting the Encoder and Decoder Together"
      ],
      "metadata": {
        "id": "giGvOu0XOEyC"
      }
    },
    {
      "cell_type": "code",
      "source": [
        "class EncoderDecoder(tf.keras.Model):\n",
        "    \"\"\"The base class for the encoder-decoder architecture.\"\"\"\n",
        "    def __init__(self, encoder, decoder, **kwargs):\n",
        "        super(EncoderDecoder, self).__init__(**kwargs)\n",
        "        self.encoder = encoder\n",
        "        self.decoder = decoder\n",
        "\n",
        "    def call(self, enc_X, dec_X, *args, **kwargs):\n",
        "        enc_outputs = self.encoder(enc_X, *args, **kwargs)\n",
        "        dec_state = self.decoder.init_state(enc_outputs, *args)\n",
        "        return self.decoder(dec_X, dec_state, **kwargs)"
      ],
      "metadata": {
        "id": "NBdo0QUXOC3r"
      },
      "execution_count": 3,
      "outputs": []
    },
    {
      "cell_type": "code",
      "source": [
        ""
      ],
      "metadata": {
        "id": "-dP5sbY4OHWq"
      },
      "execution_count": null,
      "outputs": []
    }
  ]
}