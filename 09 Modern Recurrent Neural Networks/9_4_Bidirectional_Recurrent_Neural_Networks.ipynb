{
  "nbformat": 4,
  "nbformat_minor": 0,
  "metadata": {
    "colab": {
      "name": "9.4. Bidirectional Recurrent Neural Networks",
      "provenance": [],
      "collapsed_sections": []
    },
    "kernelspec": {
      "name": "python3",
      "display_name": "Python 3"
    },
    "language_info": {
      "name": "python"
    }
  },
  "cells": [
    {
      "cell_type": "markdown",
      "source": [
        "Fill Mask\n",
        "\n",
        "I am ___.\n",
        "\n",
        "I am ___ hungry.\n",
        "\n",
        "I am ___ hungry, and I can eat half a pig."
      ],
      "metadata": {
        "id": "jQnVjRInDvxp"
      }
    },
    {
      "cell_type": "markdown",
      "source": [
        "### Bidirectional Model\n",
        "\n",
        "<img src=\"https://classic.d2l.ai/_images/birnn.svg\" />\n",
        "\n",
        "$\\begin{split}\\begin{aligned}\n",
        "\\overrightarrow{\\mathbf{H}}_t &= \\phi(\\mathbf{X}_t \\mathbf{W}_{xh}^{(f)} + \\overrightarrow{\\mathbf{H}}_{t-1} \\mathbf{W}_{hh}^{(f)}  + \\mathbf{b}_h^{(f)})\\\\\n",
        "\\overleftarrow{\\mathbf{H}}_t &= \\phi(\\mathbf{X}_t \\mathbf{W}_{xh}^{(b)} + \\overleftarrow{\\mathbf{H}}_{t+1} \\mathbf{W}_{hh}^{(b)}  + \\mathbf{b}_h^{(b)})\n",
        "\\end{aligned}\\end{split}$\n",
        "\n",
        "$\\mathbf{H}_t = \\overrightarrow{\\mathbf{H}}_t + \\overleftarrow{\\mathbf{H}}_t$\n",
        "\n",
        "$\\mathbf{O}_t = \\mathbf{H}_t \\mathbf{W}_{hq} + \\mathbf{b}_q.$"
      ],
      "metadata": {
        "id": "KHuQGVqOG6bb"
      }
    }
  ]
}