{
 "cells": [
  {
   "cell_type": "markdown",
   "id": "b188b0e3",
   "metadata": {},
   "source": [
    "### Pooling\n",
    "\n",
    "Maximum pooling with a pooling window shape of $2\\times 2$. The shaded portions are the first output element as well as the input tensor elements used for the output computation: $\\max(0, 1, 3, 4)=4$\n",
    "\n",
    "![pooling](../images/pooling.svg)"
   ]
  },
  {
   "cell_type": "code",
   "execution_count": 1,
   "id": "c822a443",
   "metadata": {
    "ExecuteTime": {
     "end_time": "2022-04-30T17:13:19.405802Z",
     "start_time": "2022-04-30T17:13:16.973649Z"
    }
   },
   "outputs": [
    {
     "data": {
      "text/plain": [
       "<tf.Tensor: shape=(4, 4), dtype=float32, numpy=\n",
       "array([[ 0.,  1.,  2.,  3.],\n",
       "       [ 4.,  5.,  6.,  7.],\n",
       "       [ 8.,  9., 10., 11.],\n",
       "       [12., 13., 14., 15.]], dtype=float32)>"
      ]
     },
     "execution_count": 1,
     "metadata": {},
     "output_type": "execute_result"
    }
   ],
   "source": [
    "import tensorflow as tf\n",
    "\n",
    "\n",
    "X = tf.reshape(tf.range(16, dtype=tf.float32), (4, 4))\n",
    "X"
   ]
  },
  {
   "cell_type": "code",
   "execution_count": 2,
   "id": "42f1b005",
   "metadata": {
    "ExecuteTime": {
     "end_time": "2022-04-30T17:13:19.421836Z",
     "start_time": "2022-04-30T17:13:19.408804Z"
    }
   },
   "outputs": [
    {
     "data": {
      "text/plain": [
       "<tf.Tensor: shape=(1, 4, 4, 1), dtype=float32, numpy=\n",
       "array([[[[ 0.],\n",
       "         [ 1.],\n",
       "         [ 2.],\n",
       "         [ 3.]],\n",
       "\n",
       "        [[ 4.],\n",
       "         [ 5.],\n",
       "         [ 6.],\n",
       "         [ 7.]],\n",
       "\n",
       "        [[ 8.],\n",
       "         [ 9.],\n",
       "         [10.],\n",
       "         [11.]],\n",
       "\n",
       "        [[12.],\n",
       "         [13.],\n",
       "         [14.],\n",
       "         [15.]]]], dtype=float32)>"
      ]
     },
     "execution_count": 2,
     "metadata": {},
     "output_type": "execute_result"
    }
   ],
   "source": [
    "X = tf.reshape(X, (1, 4, 4, 1))\n",
    "X"
   ]
  },
  {
   "cell_type": "code",
   "execution_count": 3,
   "id": "c689fcc0",
   "metadata": {
    "ExecuteTime": {
     "end_time": "2022-04-30T17:13:19.437804Z",
     "start_time": "2022-04-30T17:13:19.423837Z"
    }
   },
   "outputs": [
    {
     "data": {
      "text/plain": [
       "<tf.Tensor: shape=(1, 2, 2, 1), dtype=float32, numpy=\n",
       "array([[[[ 5.],\n",
       "         [ 7.]],\n",
       "\n",
       "        [[13.],\n",
       "         [15.]]]], dtype=float32)>"
      ]
     },
     "execution_count": 3,
     "metadata": {},
     "output_type": "execute_result"
    }
   ],
   "source": [
    "max_pool_2d = tf.keras.layers.MaxPooling2D(pool_size=(2, 2))\n",
    "max_pool_2d(X)"
   ]
  },
  {
   "cell_type": "markdown",
   "id": "a8947270",
   "metadata": {},
   "source": [
    "### Padding and Stride"
   ]
  },
  {
   "cell_type": "code",
   "execution_count": 4,
   "id": "edb9b3e5",
   "metadata": {
    "ExecuteTime": {
     "end_time": "2022-04-30T17:13:19.453805Z",
     "start_time": "2022-04-30T17:13:19.440803Z"
    }
   },
   "outputs": [
    {
     "data": {
      "text/plain": [
       "<tf.Tensor: shape=(4, 4), dtype=float32, numpy=\n",
       "array([[ 0.,  1.,  2.,  3.],\n",
       "       [ 4.,  5.,  6.,  7.],\n",
       "       [ 8.,  9., 10., 11.],\n",
       "       [12., 13., 14., 15.]], dtype=float32)>"
      ]
     },
     "execution_count": 4,
     "metadata": {},
     "output_type": "execute_result"
    }
   ],
   "source": [
    "X = tf.reshape(tf.range(16, dtype=tf.float32), (4, 4))\n",
    "X"
   ]
  },
  {
   "cell_type": "code",
   "execution_count": 5,
   "id": "f41c6b50",
   "metadata": {
    "ExecuteTime": {
     "end_time": "2022-04-30T17:13:19.469845Z",
     "start_time": "2022-04-30T17:13:19.455805Z"
    }
   },
   "outputs": [
    {
     "data": {
      "text/plain": [
       "<tf.Tensor: shape=(1, 4, 4, 1), dtype=float32, numpy=\n",
       "array([[[[ 0.],\n",
       "         [ 1.],\n",
       "         [ 2.],\n",
       "         [ 3.]],\n",
       "\n",
       "        [[ 4.],\n",
       "         [ 5.],\n",
       "         [ 6.],\n",
       "         [ 7.]],\n",
       "\n",
       "        [[ 8.],\n",
       "         [ 9.],\n",
       "         [10.],\n",
       "         [11.]],\n",
       "\n",
       "        [[12.],\n",
       "         [13.],\n",
       "         [14.],\n",
       "         [15.]]]], dtype=float32)>"
      ]
     },
     "execution_count": 5,
     "metadata": {},
     "output_type": "execute_result"
    }
   ],
   "source": [
    "X = tf.reshape(X, (1, 4, 4, 1))\n",
    "X"
   ]
  },
  {
   "cell_type": "code",
   "execution_count": 6,
   "id": "f24d819b",
   "metadata": {
    "ExecuteTime": {
     "end_time": "2022-04-30T17:13:19.485810Z",
     "start_time": "2022-04-30T17:13:19.472805Z"
    }
   },
   "outputs": [
    {
     "data": {
      "text/plain": [
       "<tf.Tensor: shape=(1, 3, 3, 1), dtype=float32, numpy=\n",
       "array([[[[ 5.],\n",
       "         [ 6.],\n",
       "         [ 7.]],\n",
       "\n",
       "        [[ 9.],\n",
       "         [10.],\n",
       "         [11.]],\n",
       "\n",
       "        [[13.],\n",
       "         [14.],\n",
       "         [15.]]]], dtype=float32)>"
      ]
     },
     "execution_count": 6,
     "metadata": {},
     "output_type": "execute_result"
    }
   ],
   "source": [
    "max_pool_2d = tf.keras.layers.MaxPooling2D(pool_size=(2, 2), padding='valid', strides=(1, 1))\n",
    "max_pool_2d(X)"
   ]
  },
  {
   "cell_type": "markdown",
   "id": "194e17d5",
   "metadata": {},
   "source": [
    "### Multiple Channels\n",
    "\n",
    "When processing multi-channel input data, the pooling layer pools each input channel separately, rather than summing the inputs up over channels as in a convolutional layer.\n",
    "Below, we will concatenate tensors X and X + 1 on the channel dimension to construct an input with 2 channels."
   ]
  },
  {
   "cell_type": "code",
   "execution_count": 7,
   "id": "6686e1b6",
   "metadata": {
    "ExecuteTime": {
     "end_time": "2022-04-30T17:13:19.501809Z",
     "start_time": "2022-04-30T17:13:19.488809Z"
    }
   },
   "outputs": [
    {
     "data": {
      "text/plain": [
       "<tf.Tensor: shape=(4, 4), dtype=float32, numpy=\n",
       "array([[ 0.,  1.,  2.,  3.],\n",
       "       [ 4.,  5.,  6.,  7.],\n",
       "       [ 8.,  9., 10., 11.],\n",
       "       [12., 13., 14., 15.]], dtype=float32)>"
      ]
     },
     "execution_count": 7,
     "metadata": {},
     "output_type": "execute_result"
    }
   ],
   "source": [
    "X = tf.reshape(tf.range(16, dtype=tf.float32), (4, 4))\n",
    "X"
   ]
  },
  {
   "cell_type": "code",
   "execution_count": 8,
   "id": "02f3769b",
   "metadata": {
    "ExecuteTime": {
     "end_time": "2022-04-30T17:13:19.517854Z",
     "start_time": "2022-04-30T17:13:19.505803Z"
    }
   },
   "outputs": [
    {
     "data": {
      "text/plain": [
       "<tf.Tensor: shape=(1, 4, 4, 1), dtype=float32, numpy=\n",
       "array([[[[ 0.],\n",
       "         [ 1.],\n",
       "         [ 2.],\n",
       "         [ 3.]],\n",
       "\n",
       "        [[ 4.],\n",
       "         [ 5.],\n",
       "         [ 6.],\n",
       "         [ 7.]],\n",
       "\n",
       "        [[ 8.],\n",
       "         [ 9.],\n",
       "         [10.],\n",
       "         [11.]],\n",
       "\n",
       "        [[12.],\n",
       "         [13.],\n",
       "         [14.],\n",
       "         [15.]]]], dtype=float32)>"
      ]
     },
     "execution_count": 8,
     "metadata": {},
     "output_type": "execute_result"
    }
   ],
   "source": [
    "X = tf.reshape(X, (1, 4, 4, 1))\n",
    "X"
   ]
  },
  {
   "cell_type": "code",
   "execution_count": 12,
   "id": "9de9d6e4",
   "metadata": {
    "ExecuteTime": {
     "end_time": "2022-04-30T17:15:33.741736Z",
     "start_time": "2022-04-30T17:15:33.718749Z"
    }
   },
   "outputs": [
    {
     "data": {
      "text/plain": [
       "<tf.Tensor: shape=(1, 4, 4, 4), dtype=float32, numpy=\n",
       "array([[[[ 0.,  1.,  1.,  2.],\n",
       "         [ 1.,  2.,  2.,  3.],\n",
       "         [ 2.,  3.,  3.,  4.],\n",
       "         [ 3.,  4.,  4.,  5.]],\n",
       "\n",
       "        [[ 4.,  5.,  5.,  6.],\n",
       "         [ 5.,  6.,  6.,  7.],\n",
       "         [ 6.,  7.,  7.,  8.],\n",
       "         [ 7.,  8.,  8.,  9.]],\n",
       "\n",
       "        [[ 8.,  9.,  9., 10.],\n",
       "         [ 9., 10., 10., 11.],\n",
       "         [10., 11., 11., 12.],\n",
       "         [11., 12., 12., 13.]],\n",
       "\n",
       "        [[12., 13., 13., 14.],\n",
       "         [13., 14., 14., 15.],\n",
       "         [14., 15., 15., 16.],\n",
       "         [15., 16., 16., 17.]]]], dtype=float32)>"
      ]
     },
     "execution_count": 12,
     "metadata": {},
     "output_type": "execute_result"
    }
   ],
   "source": [
    "X = tf.concat([X, X + 1], 3)  # Concatenate along `dim=3` due to channels-last syntax\n",
    "X"
   ]
  },
  {
   "cell_type": "code",
   "execution_count": 13,
   "id": "166a7670",
   "metadata": {
    "ExecuteTime": {
     "end_time": "2022-04-30T17:17:39.186635Z",
     "start_time": "2022-04-30T17:17:39.163649Z"
    }
   },
   "outputs": [
    {
     "data": {
      "text/plain": [
       "<tf.Tensor: shape=(4, 2), dtype=int32, numpy=\n",
       "array([[0, 0],\n",
       "       [1, 0],\n",
       "       [1, 0],\n",
       "       [0, 0]])>"
      ]
     },
     "execution_count": 13,
     "metadata": {},
     "output_type": "execute_result"
    }
   ],
   "source": [
    "paddings = tf.constant([[0, 0], [1,0], [1,0], [0,0]])\n",
    "paddings"
   ]
  },
  {
   "cell_type": "code",
   "execution_count": 14,
   "id": "99c9d261",
   "metadata": {
    "ExecuteTime": {
     "end_time": "2022-04-30T17:17:42.220097Z",
     "start_time": "2022-04-30T17:17:42.197105Z"
    }
   },
   "outputs": [
    {
     "data": {
      "text/plain": [
       "<tf.Tensor: shape=(1, 5, 5, 4), dtype=float32, numpy=\n",
       "array([[[[ 0.,  0.,  0.,  0.],\n",
       "         [ 0.,  0.,  0.,  0.],\n",
       "         [ 0.,  0.,  0.,  0.],\n",
       "         [ 0.,  0.,  0.,  0.],\n",
       "         [ 0.,  0.,  0.,  0.]],\n",
       "\n",
       "        [[ 0.,  0.,  0.,  0.],\n",
       "         [ 0.,  1.,  1.,  2.],\n",
       "         [ 1.,  2.,  2.,  3.],\n",
       "         [ 2.,  3.,  3.,  4.],\n",
       "         [ 3.,  4.,  4.,  5.]],\n",
       "\n",
       "        [[ 0.,  0.,  0.,  0.],\n",
       "         [ 4.,  5.,  5.,  6.],\n",
       "         [ 5.,  6.,  6.,  7.],\n",
       "         [ 6.,  7.,  7.,  8.],\n",
       "         [ 7.,  8.,  8.,  9.]],\n",
       "\n",
       "        [[ 0.,  0.,  0.,  0.],\n",
       "         [ 8.,  9.,  9., 10.],\n",
       "         [ 9., 10., 10., 11.],\n",
       "         [10., 11., 11., 12.],\n",
       "         [11., 12., 12., 13.]],\n",
       "\n",
       "        [[ 0.,  0.,  0.,  0.],\n",
       "         [12., 13., 13., 14.],\n",
       "         [13., 14., 14., 15.],\n",
       "         [14., 15., 15., 16.],\n",
       "         [15., 16., 16., 17.]]]], dtype=float32)>"
      ]
     },
     "execution_count": 14,
     "metadata": {},
     "output_type": "execute_result"
    }
   ],
   "source": [
    "X_padded = tf.pad(X, paddings, \"CONSTANT\")\n",
    "X_padded"
   ]
  },
  {
   "cell_type": "code",
   "execution_count": 15,
   "id": "6dc1f27a",
   "metadata": {
    "ExecuteTime": {
     "end_time": "2022-04-30T17:19:07.162341Z",
     "start_time": "2022-04-30T17:19:07.150347Z"
    }
   },
   "outputs": [
    {
     "data": {
      "text/plain": [
       "<tf.Tensor: shape=(1, 2, 2, 4), dtype=float32, numpy=\n",
       "array([[[[ 5.,  6.,  6.,  7.],\n",
       "         [ 7.,  8.,  8.,  9.]],\n",
       "\n",
       "        [[13., 14., 14., 15.],\n",
       "         [15., 16., 16., 17.]]]], dtype=float32)>"
      ]
     },
     "execution_count": 15,
     "metadata": {},
     "output_type": "execute_result"
    }
   ],
   "source": [
    "pool2d = tf.keras.layers.MaxPool2D(pool_size=(3, 3), padding='valid',\n",
    "                                   strides=2)\n",
    "pool2d(X_padded)"
   ]
  }
 ],
 "metadata": {
  "kernelspec": {
   "display_name": "Python 3 (ipykernel)",
   "language": "python",
   "name": "python3"
  },
  "language_info": {
   "codemirror_mode": {
    "name": "ipython",
    "version": 3
   },
   "file_extension": ".py",
   "mimetype": "text/x-python",
   "name": "python",
   "nbconvert_exporter": "python",
   "pygments_lexer": "ipython3",
   "version": "3.7.9"
  }
 },
 "nbformat": 4,
 "nbformat_minor": 5
}
