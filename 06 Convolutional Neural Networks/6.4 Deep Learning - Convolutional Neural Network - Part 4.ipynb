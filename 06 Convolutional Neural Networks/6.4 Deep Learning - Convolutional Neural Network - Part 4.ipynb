{
 "cells": [
  {
   "cell_type": "markdown",
   "id": "4af9baeb",
   "metadata": {},
   "source": [
    "### Multiple Input Channels\n",
    "\n",
    "Cross-correlation computation with 2 input channels\n",
    "\n",
    "![conv-multi-in](../images/conv-multi-in.svg)"
   ]
  },
  {
   "cell_type": "markdown",
   "id": "cb3a3a5d",
   "metadata": {},
   "source": [
    "Assuming that the number of channels for the input data is $c_i$, the number of input channels of the convolution kernel also needs to be $c_i$. If our convolution kernel's window shape is $k_h\\times k_w$, then when $c_i=1$, we can think of our convolution kernel as just a two-dimensional tensor of shape $k_h\\times k_w$.\n",
    "\n",
    "However, when $c_i>1$, we need a kernel that contains a tensor of shape $k_h\\times k_w$ for every input channel. Concatenating these $c_i$ tensors together yields a convolution kernel of shape $c_i\\times k_h\\times k_w$."
   ]
  },
  {
   "cell_type": "code",
   "execution_count": 1,
   "id": "ea6f5db2",
   "metadata": {
    "ExecuteTime": {
     "end_time": "2022-04-30T11:32:04.376722Z",
     "start_time": "2022-04-30T11:32:02.124635Z"
    }
   },
   "outputs": [],
   "source": [
    "import tensorflow as tf"
   ]
  },
  {
   "cell_type": "code",
   "execution_count": 2,
   "id": "9282bbf8",
   "metadata": {
    "ExecuteTime": {
     "end_time": "2022-04-30T11:32:04.392710Z",
     "start_time": "2022-04-30T11:32:04.378688Z"
    }
   },
   "outputs": [],
   "source": [
    "def corr2d(X, K):\n",
    "    \"\"\"Compute 2D cross-correlation.\"\"\"\n",
    "    h, w = K.shape\n",
    "    Y = tf.Variable(tf.zeros((X.shape[0] - h + 1, X.shape[1] - w + 1)))\n",
    "    for i in range(Y.shape[0]):\n",
    "        for j in range(Y.shape[1]):\n",
    "            Y[i, j].assign(tf.reduce_sum(\n",
    "                X[i: i + h, j: j + w] * K))\n",
    "    return Y"
   ]
  },
  {
   "cell_type": "code",
   "execution_count": 3,
   "id": "4360a310",
   "metadata": {
    "ExecuteTime": {
     "end_time": "2022-04-30T11:32:04.408713Z",
     "start_time": "2022-04-30T11:32:04.393689Z"
    }
   },
   "outputs": [],
   "source": [
    "def corr2d_multi_in(X, K):\n",
    "    # First, iterate through the 0th dimension (channel dimension) of `X` and\n",
    "    # `K`. Then, add them together\n",
    "    return tf.reduce_sum([corr2d(x, k) for x, k in zip(X, K)], axis=0)"
   ]
  },
  {
   "cell_type": "code",
   "execution_count": 4,
   "id": "3d9db04d",
   "metadata": {
    "ExecuteTime": {
     "end_time": "2022-04-30T11:32:04.471685Z",
     "start_time": "2022-04-30T11:32:04.411686Z"
    }
   },
   "outputs": [
    {
     "data": {
      "text/plain": [
       "<tf.Tensor: shape=(2, 2), dtype=float32, numpy=\n",
       "array([[ 56.,  72.],\n",
       "       [104., 120.]], dtype=float32)>"
      ]
     },
     "execution_count": 4,
     "metadata": {},
     "output_type": "execute_result"
    }
   ],
   "source": [
    "X = tf.constant([\n",
    "    [\n",
    "        [0.0, 1.0, 2.0], \n",
    "        [3.0, 4.0, 5.0], \n",
    "        [6.0, 7.0, 8.0]\n",
    "    ],\n",
    "    [\n",
    "        [1.0, 2.0, 3.0], \n",
    "        [4.0, 5.0, 6.0], \n",
    "        [7.0, 8.0, 9.0]\n",
    "    ]\n",
    "])\n",
    "\n",
    "K = tf.constant([\n",
    "    [\n",
    "        [0.0, 1.0], \n",
    "        [2.0, 3.0]\n",
    "    ], \n",
    "    [\n",
    "        [1.0, 2.0], \n",
    "        [3.0, 4.0]\n",
    "    ]\n",
    "])\n",
    "\n",
    "corr2d_multi_in(X, K)"
   ]
  },
  {
   "cell_type": "markdown",
   "id": "ab71ae98",
   "metadata": {},
   "source": [
    "### Multiple Output Channels\n",
    "\n",
    "Denote by $c_i$ and $c_o$ the number of input and output channels, respectively, and let $k_h$ and $k_w$ be the height and width of the kernel. To get an output with multiple channels, we can create a kernel tensor of shape $c_i\\times k_h\\times k_w$ for every output channel. We concatenate them on the output channel dimension, so that the shape of the convolution kernel is $c_o\\times c_i\\times k_h\\times k_w$."
   ]
  },
  {
   "cell_type": "code",
   "execution_count": 5,
   "id": "749f1f4f",
   "metadata": {
    "ExecuteTime": {
     "end_time": "2022-04-30T11:32:04.487686Z",
     "start_time": "2022-04-30T11:32:04.472683Z"
    }
   },
   "outputs": [],
   "source": [
    "def corr2d_multi_in_out(X, K):\n",
    "    # Iterate through the 0th dimension of `K`, and each time, perform\n",
    "    # cross-correlation operations with input `X`. All of the results are\n",
    "    # stacked together\n",
    "    return tf.stack([corr2d_multi_in(X, k) for k in K], 0)"
   ]
  },
  {
   "cell_type": "code",
   "execution_count": 6,
   "id": "80f6d8f3",
   "metadata": {
    "ExecuteTime": {
     "end_time": "2022-04-30T11:32:04.503687Z",
     "start_time": "2022-04-30T11:32:04.489684Z"
    }
   },
   "outputs": [
    {
     "data": {
      "text/plain": [
       "TensorShape([3, 2, 2, 2])"
      ]
     },
     "execution_count": 6,
     "metadata": {},
     "output_type": "execute_result"
    }
   ],
   "source": [
    "K = tf.stack((K, K + 1, K + 2), 0)\n",
    "K.shape"
   ]
  },
  {
   "cell_type": "code",
   "execution_count": 7,
   "id": "48bd1510",
   "metadata": {
    "ExecuteTime": {
     "end_time": "2022-04-30T11:32:04.535763Z",
     "start_time": "2022-04-30T11:32:04.505687Z"
    }
   },
   "outputs": [
    {
     "data": {
      "text/plain": [
       "<tf.Tensor: shape=(3, 2, 2), dtype=float32, numpy=\n",
       "array([[[ 56.,  72.],\n",
       "        [104., 120.]],\n",
       "\n",
       "       [[ 76., 100.],\n",
       "        [148., 172.]],\n",
       "\n",
       "       [[ 96., 128.],\n",
       "        [192., 224.]]], dtype=float32)>"
      ]
     },
     "execution_count": 7,
     "metadata": {},
     "output_type": "execute_result"
    }
   ],
   "source": [
    "corr2d_multi_in_out(X, K)"
   ]
  }
 ],
 "metadata": {
  "kernelspec": {
   "display_name": "Python 3 (ipykernel)",
   "language": "python",
   "name": "python3"
  },
  "language_info": {
   "codemirror_mode": {
    "name": "ipython",
    "version": 3
   },
   "file_extension": ".py",
   "mimetype": "text/x-python",
   "name": "python",
   "nbconvert_exporter": "python",
   "pygments_lexer": "ipython3",
   "version": "3.7.9"
  }
 },
 "nbformat": 4,
 "nbformat_minor": 5
}
